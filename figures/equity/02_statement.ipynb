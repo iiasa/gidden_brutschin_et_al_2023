{
 "cells": [
  {
   "cell_type": "markdown",
   "metadata": {},
   "source": [
    "Why do we get relatively fairer outcomes with DAC for the C1 scenarios?"
   ]
  },
  {
   "cell_type": "code",
   "execution_count": 2,
   "metadata": {},
   "outputs": [],
   "source": [
    "import itertools\n",
    "import pathlib\n",
    "import pyam\n",
    "\n",
    "import numpy as np\n",
    "import pandas as pd\n",
    "import seaborn as sns\n",
    "import matplotlib.pyplot as plt\n",
    "import matplotlib.cm as compile\n",
    "\n",
    "\n",
    "import sys\n",
    "sys.path.append('..')\n",
    "\n",
    "sns.set_style('whitegrid')"
   ]
  },
  {
   "cell_type": "markdown",
   "metadata": {},
   "source": [
    "# Read in the data"
   ]
  },
  {
   "cell_type": "code",
   "execution_count": 3,
   "metadata": {},
   "outputs": [
    {
     "name": "stderr",
     "output_type": "stream",
     "text": [
      "pyam - INFO: Running in a notebook, setting up a basic logging at level INFO\n",
      "pyam.core - INFO: Reading file ..\\..\\data\\gidden_brutshin_et_al_2023_data.csv\n",
      "pyam.core - INFO: Reading meta indicators\n"
     ]
    }
   ],
   "source": [
    "datapath = pathlib.Path('../../data')\n",
    "fulldf = pyam.IamDataFrame(datapath / 'gidden_brutshin_et_al_2023_data.csv')\n",
    "fulldf.load_meta(datapath / 'gidden_brutshin_et_al_2023_meta.csv')"
   ]
  },
  {
   "cell_type": "code",
   "execution_count": 4,
   "metadata": {},
   "outputs": [],
   "source": [
    "scens = pd.read_excel(datapath / 'scenarios.xlsx', sheet_name='equity_comparison')"
   ]
  },
  {
   "cell_type": "code",
   "execution_count": 5,
   "metadata": {},
   "outputs": [],
   "source": [
    "equity_data = fulldf.filter(\n",
    "    scenario=scens['Scenario']\n",
    ")"
   ]
  },
  {
   "cell_type": "markdown",
   "metadata": {},
   "source": [
    "# Focus on emission reductions and removals across the regions."
   ]
  },
  {
   "cell_type": "code",
   "execution_count": 6,
   "metadata": {},
   "outputs": [],
   "source": [
    "variables_of_interest = [\n",
    "    'Emissions|CO2',\n",
    "    'CDR'\n",
    "]"
   ]
  },
  {
   "cell_type": "code",
   "execution_count": 7,
   "metadata": {},
   "outputs": [],
   "source": [
    "deep_dive = equity_data.filter(\n",
    "    variable=variables_of_interest\n",
    ")"
   ]
  },
  {
   "cell_type": "code",
   "execution_count": 8,
   "metadata": {},
   "outputs": [
    {
     "data": {
      "text/plain": [
       "model              scenario                                                  \n",
       "GENIE_SSP2_v4.1.7  EN_NPi2020-DACm-MP-median-stor3-final_1000                    2070\n",
       "                   EN_NPi2020-DACm-MP-median-stor3-final_500                     2050\n",
       "                   EN_NPi2020-DACm-MP-median-stor3-final_700                     2059\n",
       "                   EN_NPi2020-DACm-MP-median-stor3-phs-govmSSP1-CO2total_1000    2070\n",
       "                   EN_NPi2020-DACm-MP-median-stor3-phs-govmSSP1-CO2total_700     2055\n",
       "                   EN_NPi2020-DACm-MP-median-stor3-phs-govmSSP2-CO2total_1000    2070\n",
       "                   EN_NPi2020-stor3-final_1000                                   2080\n",
       "                   EN_NPi2020-stor3-final_500                                    2055\n",
       "                   EN_NPi2020-stor3-final_700                                    2060\n",
       "Name: Interp NZ Year World Emissions|CO2, dtype: int64"
      ]
     },
     "execution_count": 8,
     "metadata": {},
     "output_type": "execute_result"
    }
   ],
   "source": [
    "deep_dive.meta['Interp NZ Year World Emissions|CO2']"
   ]
  },
  {
   "cell_type": "code",
   "execution_count": 9,
   "metadata": {},
   "outputs": [
    {
     "data": {
      "text/html": [
       "<div>\n",
       "<style scoped>\n",
       "    .dataframe tbody tr th:only-of-type {\n",
       "        vertical-align: middle;\n",
       "    }\n",
       "\n",
       "    .dataframe tbody tr th {\n",
       "        vertical-align: top;\n",
       "    }\n",
       "\n",
       "    .dataframe thead th {\n",
       "        text-align: right;\n",
       "    }\n",
       "</style>\n",
       "<table border=\"1\" class=\"dataframe\">\n",
       "  <thead>\n",
       "    <tr style=\"text-align: right;\">\n",
       "      <th>scenario</th>\n",
       "      <th>EN_NPi2020-DACm-MP-median-stor3-final_500</th>\n",
       "      <th>EN_NPi2020-stor3-final_500</th>\n",
       "    </tr>\n",
       "    <tr>\n",
       "      <th>model</th>\n",
       "      <th></th>\n",
       "      <th></th>\n",
       "    </tr>\n",
       "  </thead>\n",
       "  <tbody>\n",
       "    <tr>\n",
       "      <th>GENIE_SSP2_v4.1.7</th>\n",
       "      <td>-3.0</td>\n",
       "      <td>0.0</td>\n",
       "    </tr>\n",
       "  </tbody>\n",
       "</table>\n",
       "</div>"
      ],
      "text/plain": [
       "scenario           EN_NPi2020-DACm-MP-median-stor3-final_500  \\\n",
       "model                                                          \n",
       "GENIE_SSP2_v4.1.7                                       -3.0   \n",
       "\n",
       "scenario           EN_NPi2020-stor3-final_500  \n",
       "model                                          \n",
       "GENIE_SSP2_v4.1.7                         0.0  "
      ]
     },
     "metadata": {},
     "output_type": "display_data"
    },
    {
     "data": {
      "text/html": [
       "<div>\n",
       "<style scoped>\n",
       "    .dataframe tbody tr th:only-of-type {\n",
       "        vertical-align: middle;\n",
       "    }\n",
       "\n",
       "    .dataframe tbody tr th {\n",
       "        vertical-align: top;\n",
       "    }\n",
       "\n",
       "    .dataframe thead th {\n",
       "        text-align: right;\n",
       "    }\n",
       "</style>\n",
       "<table border=\"1\" class=\"dataframe\">\n",
       "  <thead>\n",
       "    <tr style=\"text-align: right;\">\n",
       "      <th>scenario</th>\n",
       "      <th>EN_NPi2020-DACm-MP-median-stor3-final_700</th>\n",
       "      <th>EN_NPi2020-DACm-MP-median-stor3-phs-govmSSP1-CO2total_700</th>\n",
       "      <th>EN_NPi2020-stor3-final_700</th>\n",
       "    </tr>\n",
       "    <tr>\n",
       "      <th>model</th>\n",
       "      <th></th>\n",
       "      <th></th>\n",
       "      <th></th>\n",
       "    </tr>\n",
       "  </thead>\n",
       "  <tbody>\n",
       "    <tr>\n",
       "      <th>GENIE_SSP2_v4.1.7</th>\n",
       "      <td>-14.0</td>\n",
       "      <td>-36.0</td>\n",
       "      <td>0.0</td>\n",
       "    </tr>\n",
       "  </tbody>\n",
       "</table>\n",
       "</div>"
      ],
      "text/plain": [
       "scenario           EN_NPi2020-DACm-MP-median-stor3-final_700  \\\n",
       "model                                                          \n",
       "GENIE_SSP2_v4.1.7                                      -14.0   \n",
       "\n",
       "scenario           EN_NPi2020-DACm-MP-median-stor3-phs-govmSSP1-CO2total_700  \\\n",
       "model                                                                          \n",
       "GENIE_SSP2_v4.1.7                                              -36.0           \n",
       "\n",
       "scenario           EN_NPi2020-stor3-final_700  \n",
       "model                                          \n",
       "GENIE_SSP2_v4.1.7                         0.0  "
      ]
     },
     "metadata": {},
     "output_type": "display_data"
    },
    {
     "data": {
      "text/html": [
       "<div>\n",
       "<style scoped>\n",
       "    .dataframe tbody tr th:only-of-type {\n",
       "        vertical-align: middle;\n",
       "    }\n",
       "\n",
       "    .dataframe tbody tr th {\n",
       "        vertical-align: top;\n",
       "    }\n",
       "\n",
       "    .dataframe thead th {\n",
       "        text-align: right;\n",
       "    }\n",
       "</style>\n",
       "<table border=\"1\" class=\"dataframe\">\n",
       "  <thead>\n",
       "    <tr style=\"text-align: right;\">\n",
       "      <th>scenario</th>\n",
       "      <th>EN_NPi2020-DACm-MP-median-stor3-final_1000</th>\n",
       "      <th>EN_NPi2020-DACm-MP-median-stor3-phs-govmSSP1-CO2total_1000</th>\n",
       "      <th>EN_NPi2020-DACm-MP-median-stor3-phs-govmSSP2-CO2total_1000</th>\n",
       "      <th>EN_NPi2020-stor3-final_1000</th>\n",
       "    </tr>\n",
       "    <tr>\n",
       "      <th>model</th>\n",
       "      <th></th>\n",
       "      <th></th>\n",
       "      <th></th>\n",
       "      <th></th>\n",
       "    </tr>\n",
       "  </thead>\n",
       "  <tbody>\n",
       "    <tr>\n",
       "      <th>GENIE_SSP2_v4.1.7</th>\n",
       "      <td>-46.0</td>\n",
       "      <td>-51.0</td>\n",
       "      <td>-113.0</td>\n",
       "      <td>0.0</td>\n",
       "    </tr>\n",
       "  </tbody>\n",
       "</table>\n",
       "</div>"
      ],
      "text/plain": [
       "scenario           EN_NPi2020-DACm-MP-median-stor3-final_1000  \\\n",
       "model                                                           \n",
       "GENIE_SSP2_v4.1.7                                       -46.0   \n",
       "\n",
       "scenario           EN_NPi2020-DACm-MP-median-stor3-phs-govmSSP1-CO2total_1000  \\\n",
       "model                                                                           \n",
       "GENIE_SSP2_v4.1.7                                              -51.0            \n",
       "\n",
       "scenario           EN_NPi2020-DACm-MP-median-stor3-phs-govmSSP2-CO2total_1000  \\\n",
       "model                                                                           \n",
       "GENIE_SSP2_v4.1.7                                             -113.0            \n",
       "\n",
       "scenario           EN_NPi2020-stor3-final_1000  \n",
       "model                                           \n",
       "GENIE_SSP2_v4.1.7                          0.0  "
      ]
     },
     "metadata": {},
     "output_type": "display_data"
    }
   ],
   "source": [
    "maps = {\n",
    "    '1.5C':500,\n",
    "    '1.5C - OS':700,\n",
    "    '2C':1000\n",
    "}\n",
    "for temp in ['1.5C', '1.5C - OS', '2C']:\n",
    "    t = (\n",
    "        deep_dive\n",
    "        .filter(Temperature=temp)\n",
    "        .meta['Cumulative Emissions|CO2 in Annex I until net-zero']\n",
    "        .unstack()\n",
    "    )\n",
    "    display(\n",
    "        (\n",
    "            t.subtract(t[f'EN_NPi2020-stor3-final_{maps[temp]}'], axis=0)/1e3\n",
    "        )\n",
    "        .round(0)\n",
    "    )"
   ]
  },
  {
   "cell_type": "code",
   "execution_count": 10,
   "metadata": {},
   "outputs": [
    {
     "data": {
      "text/html": [
       "<div>\n",
       "<style scoped>\n",
       "    .dataframe tbody tr th:only-of-type {\n",
       "        vertical-align: middle;\n",
       "    }\n",
       "\n",
       "    .dataframe tbody tr th {\n",
       "        vertical-align: top;\n",
       "    }\n",
       "\n",
       "    .dataframe thead th {\n",
       "        text-align: right;\n",
       "    }\n",
       "</style>\n",
       "<table border=\"1\" class=\"dataframe\">\n",
       "  <thead>\n",
       "    <tr style=\"text-align: right;\">\n",
       "      <th>scenario</th>\n",
       "      <th>EN_NPi2020-DACm-MP-median-stor3-final_500</th>\n",
       "      <th>EN_NPi2020-stor3-final_500</th>\n",
       "    </tr>\n",
       "    <tr>\n",
       "      <th>model</th>\n",
       "      <th></th>\n",
       "      <th></th>\n",
       "    </tr>\n",
       "  </thead>\n",
       "  <tbody>\n",
       "    <tr>\n",
       "      <th>GENIE_SSP2_v4.1.7</th>\n",
       "      <td>2.0</td>\n",
       "      <td>0.0</td>\n",
       "    </tr>\n",
       "  </tbody>\n",
       "</table>\n",
       "</div>"
      ],
      "text/plain": [
       "scenario           EN_NPi2020-DACm-MP-median-stor3-final_500  \\\n",
       "model                                                          \n",
       "GENIE_SSP2_v4.1.7                                        2.0   \n",
       "\n",
       "scenario           EN_NPi2020-stor3-final_500  \n",
       "model                                          \n",
       "GENIE_SSP2_v4.1.7                         0.0  "
      ]
     },
     "metadata": {},
     "output_type": "display_data"
    },
    {
     "data": {
      "text/html": [
       "<div>\n",
       "<style scoped>\n",
       "    .dataframe tbody tr th:only-of-type {\n",
       "        vertical-align: middle;\n",
       "    }\n",
       "\n",
       "    .dataframe tbody tr th {\n",
       "        vertical-align: top;\n",
       "    }\n",
       "\n",
       "    .dataframe thead th {\n",
       "        text-align: right;\n",
       "    }\n",
       "</style>\n",
       "<table border=\"1\" class=\"dataframe\">\n",
       "  <thead>\n",
       "    <tr style=\"text-align: right;\">\n",
       "      <th>scenario</th>\n",
       "      <th>EN_NPi2020-DACm-MP-median-stor3-final_700</th>\n",
       "      <th>EN_NPi2020-DACm-MP-median-stor3-phs-govmSSP1-CO2total_700</th>\n",
       "      <th>EN_NPi2020-stor3-final_700</th>\n",
       "    </tr>\n",
       "    <tr>\n",
       "      <th>model</th>\n",
       "      <th></th>\n",
       "      <th></th>\n",
       "      <th></th>\n",
       "    </tr>\n",
       "  </thead>\n",
       "  <tbody>\n",
       "    <tr>\n",
       "      <th>GENIE_SSP2_v4.1.7</th>\n",
       "      <td>8.0</td>\n",
       "      <td>39.0</td>\n",
       "      <td>0.0</td>\n",
       "    </tr>\n",
       "  </tbody>\n",
       "</table>\n",
       "</div>"
      ],
      "text/plain": [
       "scenario           EN_NPi2020-DACm-MP-median-stor3-final_700  \\\n",
       "model                                                          \n",
       "GENIE_SSP2_v4.1.7                                        8.0   \n",
       "\n",
       "scenario           EN_NPi2020-DACm-MP-median-stor3-phs-govmSSP1-CO2total_700  \\\n",
       "model                                                                          \n",
       "GENIE_SSP2_v4.1.7                                               39.0           \n",
       "\n",
       "scenario           EN_NPi2020-stor3-final_700  \n",
       "model                                          \n",
       "GENIE_SSP2_v4.1.7                         0.0  "
      ]
     },
     "metadata": {},
     "output_type": "display_data"
    },
    {
     "data": {
      "text/html": [
       "<div>\n",
       "<style scoped>\n",
       "    .dataframe tbody tr th:only-of-type {\n",
       "        vertical-align: middle;\n",
       "    }\n",
       "\n",
       "    .dataframe tbody tr th {\n",
       "        vertical-align: top;\n",
       "    }\n",
       "\n",
       "    .dataframe thead th {\n",
       "        text-align: right;\n",
       "    }\n",
       "</style>\n",
       "<table border=\"1\" class=\"dataframe\">\n",
       "  <thead>\n",
       "    <tr style=\"text-align: right;\">\n",
       "      <th>scenario</th>\n",
       "      <th>EN_NPi2020-DACm-MP-median-stor3-final_1000</th>\n",
       "      <th>EN_NPi2020-DACm-MP-median-stor3-phs-govmSSP1-CO2total_1000</th>\n",
       "      <th>EN_NPi2020-DACm-MP-median-stor3-phs-govmSSP2-CO2total_1000</th>\n",
       "      <th>EN_NPi2020-stor3-final_1000</th>\n",
       "    </tr>\n",
       "    <tr>\n",
       "      <th>model</th>\n",
       "      <th></th>\n",
       "      <th></th>\n",
       "      <th></th>\n",
       "      <th></th>\n",
       "    </tr>\n",
       "  </thead>\n",
       "  <tbody>\n",
       "    <tr>\n",
       "      <th>GENIE_SSP2_v4.1.7</th>\n",
       "      <td>6.0</td>\n",
       "      <td>20.0</td>\n",
       "      <td>11.0</td>\n",
       "      <td>0.0</td>\n",
       "    </tr>\n",
       "  </tbody>\n",
       "</table>\n",
       "</div>"
      ],
      "text/plain": [
       "scenario           EN_NPi2020-DACm-MP-median-stor3-final_1000  \\\n",
       "model                                                           \n",
       "GENIE_SSP2_v4.1.7                                         6.0   \n",
       "\n",
       "scenario           EN_NPi2020-DACm-MP-median-stor3-phs-govmSSP1-CO2total_1000  \\\n",
       "model                                                                           \n",
       "GENIE_SSP2_v4.1.7                                               20.0            \n",
       "\n",
       "scenario           EN_NPi2020-DACm-MP-median-stor3-phs-govmSSP2-CO2total_1000  \\\n",
       "model                                                                           \n",
       "GENIE_SSP2_v4.1.7                                               11.0            \n",
       "\n",
       "scenario           EN_NPi2020-stor3-final_1000  \n",
       "model                                           \n",
       "GENIE_SSP2_v4.1.7                          0.0  "
      ]
     },
     "metadata": {},
     "output_type": "display_data"
    }
   ],
   "source": [
    "for temp in ['1.5C', '1.5C - OS', '2C']:\n",
    "    t = (\n",
    "        deep_dive\n",
    "        .filter(Temperature=temp)\n",
    "        .meta['Cumulative Emissions|CO2 in Africa until net-zero']\n",
    "        .unstack()\n",
    "    )\n",
    "    display(\n",
    "        (\n",
    "            t.subtract(t[f'EN_NPi2020-stor3-final_{maps[temp]}'], axis=0)/1e3\n",
    "        )\n",
    "        .round(0)\n",
    "    )"
   ]
  },
  {
   "cell_type": "markdown",
   "metadata": {},
   "source": [
    "Split out gross emissions by subtracting CDR."
   ]
  },
  {
   "cell_type": "code",
   "execution_count": 11,
   "metadata": {},
   "outputs": [],
   "source": [
    "deep_dive.aggregate(\n",
    "    variable='Emissions|CO2|Gross',\n",
    "    components=[\n",
    "        'Emissions|CO2',\n",
    "        'CDR'\n",
    "    ],\n",
    "    append=True\n",
    ")"
   ]
  },
  {
   "cell_type": "code",
   "execution_count": 12,
   "metadata": {},
   "outputs": [],
   "source": [
    "regions_to_plot = [\n",
    "    'Annex I',\n",
    "    'Africa',\n",
    "    'Latin America',\n",
    "    'Asia',\n",
    "    'China'\n",
    "]"
   ]
  },
  {
   "cell_type": "code",
   "execution_count": 13,
   "metadata": {},
   "outputs": [],
   "source": [
    "def get_from_meta_column(df, x, col):\n",
    "    val = df.meta.loc[x.name[0:2], col]\n",
    "    return val if val < np.inf else max(x.index)"
   ]
  },
  {
   "cell_type": "code",
   "execution_count": 14,
   "metadata": {},
   "outputs": [],
   "source": [
    "regions_of_interest = ['World', 'Annex I', 'LAM', 'Africa', 'Asia', 'China']"
   ]
  },
  {
   "cell_type": "markdown",
   "metadata": {},
   "source": [
    "Gross CO2 emissions: 2020 - net zero, net zero to 2100"
   ]
  },
  {
   "cell_type": "code",
   "execution_count": 15,
   "metadata": {},
   "outputs": [],
   "source": [
    "gross_co2 = (\n",
    "    deep_dive\n",
    "    .filter(\n",
    "        variable='Emissions|CO2|Gross',\n",
    "        region=regions_of_interest\n",
    "    )\n",
    "    .timeseries()\n",
    ")"
   ]
  },
  {
   "cell_type": "code",
   "execution_count": 16,
   "metadata": {},
   "outputs": [],
   "source": [
    "gross_co2_2020_net_zero = (\n",
    "    gross_co2.apply(\n",
    "        lambda x: pyam.cumulative(\n",
    "            x,\n",
    "            first_year=2020,\n",
    "            last_year=get_from_meta_column(deep_dive, x, 'Interp NZ Year World Emissions|CO2')\n",
    "        ),\n",
    "        axis=1\n",
    "    )\n",
    "    .reset_index()\n",
    "    .rename(columns={0:'Cumulative Emissions|CO2 2020-netzero'})\n",
    "    .assign(time='2020 - net-zero')\n",
    "    .pivot_table(\n",
    "        values='Cumulative Emissions|CO2 2020-netzero', \n",
    "        columns='region', \n",
    "        index=['model','scenario','variable', 'unit', 'time']\n",
    "    )\n",
    ")"
   ]
  },
  {
   "cell_type": "code",
   "execution_count": 17,
   "metadata": {},
   "outputs": [],
   "source": [
    "gross_co2_net_zero_2100 = (\n",
    "    gross_co2.apply(\n",
    "        lambda x: pyam.cumulative(\n",
    "            x,\n",
    "            first_year=get_from_meta_column(deep_dive, x, 'Interp NZ Year World Emissions|CO2'),\n",
    "            last_year=2100\n",
    "        ),\n",
    "        axis=1\n",
    "    )\n",
    "    .reset_index()\n",
    "    .rename(columns={0:'Cumulative Emissions|CO2 netzero-2100'})\n",
    "    .assign(time='netzero-2100')\n",
    "    .pivot_table(\n",
    "        values='Cumulative Emissions|CO2 netzero-2100', \n",
    "        columns='region', \n",
    "        index=['model','scenario','variable', 'unit', 'time']\n",
    "    )\n",
    ")"
   ]
  },
  {
   "cell_type": "markdown",
   "metadata": {},
   "source": [
    "Now, we do this for the total CDR."
   ]
  },
  {
   "cell_type": "code",
   "execution_count": 18,
   "metadata": {},
   "outputs": [],
   "source": [
    "cdr = (\n",
    "    deep_dive\n",
    "    .filter(\n",
    "        variable='CDR',\n",
    "        region=regions_of_interest\n",
    "    )\n",
    "    .timeseries()\n",
    ")"
   ]
  },
  {
   "cell_type": "code",
   "execution_count": 19,
   "metadata": {},
   "outputs": [],
   "source": [
    "cdr_2020_net_zero = (\n",
    "    cdr.apply(\n",
    "        lambda x: pyam.cumulative(\n",
    "            x,\n",
    "            first_year=2020,\n",
    "            last_year=get_from_meta_column(deep_dive, x, 'Interp NZ Year World Emissions|CO2')\n",
    "        ),\n",
    "        axis=1\n",
    "    )\n",
    "    .reset_index()\n",
    "    .rename(columns={0:'Cumulative CDR 2020-netzero'})\n",
    "    .assign(time='2020 - net-zero')\n",
    "    .pivot_table(\n",
    "        values='Cumulative CDR 2020-netzero', \n",
    "        columns='region', \n",
    "        index=['model','scenario','variable', 'unit', 'time']\n",
    "    )\n",
    ")"
   ]
  },
  {
   "cell_type": "code",
   "execution_count": 20,
   "metadata": {},
   "outputs": [],
   "source": [
    "cdr_net_zero_2100 = (\n",
    "    cdr.apply(\n",
    "        lambda x: pyam.cumulative(\n",
    "            x,\n",
    "            first_year=get_from_meta_column(deep_dive, x, 'Interp NZ Year World Emissions|CO2'),\n",
    "            last_year=2100\n",
    "        ),\n",
    "        axis=1\n",
    "    )\n",
    "    .reset_index()\n",
    "    .rename(columns={0:'Cumulative CDR netzero-2100'})\n",
    "    .assign(time='netzero-2100')\n",
    "    .pivot_table(\n",
    "        values='Cumulative CDR netzero-2100', \n",
    "        columns='region', \n",
    "        index=['model','scenario','variable', 'unit', 'time']\n",
    "    )\n",
    ")"
   ]
  },
  {
   "cell_type": "code",
   "execution_count": 21,
   "metadata": {},
   "outputs": [],
   "source": [
    "all_emi = pd.concat([gross_co2_2020_net_zero, gross_co2_net_zero_2100, cdr_2020_net_zero, cdr_net_zero_2100])"
   ]
  },
  {
   "cell_type": "code",
   "execution_count": 22,
   "metadata": {},
   "outputs": [],
   "source": [
    "shares = all_emi.div(all_emi.World, axis=0) * 100"
   ]
  },
  {
   "cell_type": "code",
   "execution_count": 23,
   "metadata": {},
   "outputs": [],
   "source": [
    "shares.to_excel('SHARES.xlsx')\n",
    "all_emi.to_excel('TOTAL.xlsx')"
   ]
  },
  {
   "cell_type": "markdown",
   "metadata": {},
   "source": [
    "First, let us make some plots to look through what happens until net zero CO2"
   ]
  },
  {
   "cell_type": "code",
   "execution_count": 24,
   "metadata": {},
   "outputs": [
    {
     "data": {
      "text/plain": [
       "model              scenario                                                  \n",
       "GENIE_SSP2_v4.1.7  EN_NPi2020-DACm-MP-median-stor3-final_1000                           2C\n",
       "                   EN_NPi2020-DACm-MP-median-stor3-final_500                          1.5C\n",
       "                   EN_NPi2020-DACm-MP-median-stor3-final_700                     1.5C - OS\n",
       "                   EN_NPi2020-DACm-MP-median-stor3-phs-govmSSP1-CO2total_1000           2C\n",
       "                   EN_NPi2020-DACm-MP-median-stor3-phs-govmSSP1-CO2total_700     1.5C - OS\n",
       "                   EN_NPi2020-DACm-MP-median-stor3-phs-govmSSP2-CO2total_1000           2C\n",
       "                   EN_NPi2020-stor3-final_1000                                          2C\n",
       "                   EN_NPi2020-stor3-final_500                                         1.5C\n",
       "                   EN_NPi2020-stor3-final_700                                    1.5C - OS\n",
       "Name: Temperature, dtype: object"
      ]
     },
     "execution_count": 24,
     "metadata": {},
     "output_type": "execute_result"
    }
   ],
   "source": [
    "deep_dive.meta.Temperature"
   ]
  },
  {
   "cell_type": "code",
   "execution_count": 25,
   "metadata": {},
   "outputs": [
    {
     "data": {
      "image/png": "[encoded data removed]",
      "text/plain": [
       "<Figure size 1080x432 with 5 Axes>"
      ]
     },
     "metadata": {
      "needs_background": "light"
     },
     "output_type": "display_data"
    }
   ],
   "source": [
    "fig, ax = plt.subplots(1, 5, figsize=(15, 6), sharey=True)\n",
    "\n",
    "for i,temp in enumerate(['2C']): #, '1.5C - OS', '2C']):\n",
    "    for j, region in enumerate(['Annex I', 'LAM', 'Africa', 'Asia', 'China']):\n",
    "        plot_data = all_emi.loc[pd.IndexSlice[:, deep_dive.filter(Temperature=temp).scenario, :, :, '2020 - net-zero'], region]\n",
    "        labs=[]\n",
    "        for k, scen in enumerate(plot_data.index.get_level_values('scenario').unique()):\n",
    "            labs.append(scen)\n",
    "            for var in ['Emissions|CO2|Gross', 'CDR']:\n",
    "                d = plot_data.loc[pd.IndexSlice[:,scen, var,:,:]].values[0] / 1e3\n",
    "                col='blue'\n",
    "                if var == 'CDR':\n",
    "                     d*=-1\n",
    "                     col='red'\n",
    "                ax[j].bar(\n",
    "                    x=k,\n",
    "                    height=d,\n",
    "                    color=col\n",
    "                )\n",
    "        ax[j].set_title(region)\n",
    "        ax[j].set_xticks(range(k+1))\n",
    "        ax[j].set_xticklabels(labs, rotation=90)\n"
   ]
  },
  {
   "cell_type": "markdown",
   "metadata": {},
   "source": [
    "# Supplementary figures"
   ]
  },
  {
   "cell_type": "markdown",
   "metadata": {},
   "source": [
    "South and South East asia in C2 - C3 pathways?"
   ]
  },
  {
   "cell_type": "code",
   "execution_count": 26,
   "metadata": {},
   "outputs": [
    {
     "name": "stderr",
     "output_type": "stream",
     "text": [
      "c:\\users\\gidden\\onedrive - iiasa\\work\\iiasa\\pyam\\pyam\\plotting.py:1073: FutureWarning: iteritems is deprecated and will be removed in a future version. Use .items instead.\n",
      "  for col, data in df.iteritems():\n"
     ]
    },
    {
     "data": {
      "text/plain": [
       "<AxesSubplot:title={'center':'model: GENIE_SSP2_v4.1.7 - region: Asia - variable: Emissions|CO2'}, xlabel='Year', ylabel='Mt CO2/yr'>"
      ]
     },
     "execution_count": 26,
     "metadata": {},
     "output_type": "execute_result"
    },
    {
     "data": {
      "image/png": "[encoded data removed]",
      "text/plain": [
       "<Figure size 720x288 with 1 Axes>"
      ]
     },
     "metadata": {
      "needs_background": "light"
     },
     "output_type": "display_data"
    }
   ],
   "source": [
    "fig, ax = plt.subplots(figsize=(10,4))\n",
    "\n",
    "deep_dive.filter(\n",
    "    Temperature='1.5C - OS',\n",
    "    region='Asia',\n",
    "    variable='Emissions|CO2'\n",
    ").plot(color='scenario', ax=ax)"
   ]
  },
  {
   "cell_type": "code",
   "execution_count": 27,
   "metadata": {},
   "outputs": [],
   "source": [
    "fig.savefig('SI_fig_equity.png')"
   ]
  },
  {
   "cell_type": "markdown",
   "metadata": {},
   "source": [
    "CDR distributions."
   ]
  },
  {
   "cell_type": "code",
   "execution_count": 28,
   "metadata": {},
   "outputs": [
    {
     "data": {
      "text/html": [
       "<div>\n",
       "<style scoped>\n",
       "    .dataframe tbody tr th:only-of-type {\n",
       "        vertical-align: middle;\n",
       "    }\n",
       "\n",
       "    .dataframe tbody tr th {\n",
       "        vertical-align: top;\n",
       "    }\n",
       "\n",
       "    .dataframe thead th {\n",
       "        text-align: right;\n",
       "    }\n",
       "</style>\n",
       "<table border=\"1\" class=\"dataframe\">\n",
       "  <thead>\n",
       "    <tr style=\"text-align: right;\">\n",
       "      <th></th>\n",
       "      <th></th>\n",
       "      <th>region</th>\n",
       "      <th>Africa</th>\n",
       "      <th>Annex I</th>\n",
       "      <th>Asia</th>\n",
       "      <th>China</th>\n",
       "      <th>LAM</th>\n",
       "      <th>World</th>\n",
       "    </tr>\n",
       "    <tr>\n",
       "      <th>model</th>\n",
       "      <th>scenario</th>\n",
       "      <th>unit</th>\n",
       "      <th></th>\n",
       "      <th></th>\n",
       "      <th></th>\n",
       "      <th></th>\n",
       "      <th></th>\n",
       "      <th></th>\n",
       "    </tr>\n",
       "  </thead>\n",
       "  <tbody>\n",
       "    <tr>\n",
       "      <th rowspan=\"9\" valign=\"top\">GENIE_SSP2_v4.1.7</th>\n",
       "      <th>EN_NPi2020-DACm-MP-median-stor3-final_1000</th>\n",
       "      <th>Mt CO2/yr</th>\n",
       "      <td>21.0</td>\n",
       "      <td>47.0</td>\n",
       "      <td>4.0</td>\n",
       "      <td>8.0</td>\n",
       "      <td>19.0</td>\n",
       "      <td>100.0</td>\n",
       "    </tr>\n",
       "    <tr>\n",
       "      <th>EN_NPi2020-DACm-MP-median-stor3-final_500</th>\n",
       "      <th>Mt CO2/yr</th>\n",
       "      <td>20.0</td>\n",
       "      <td>44.0</td>\n",
       "      <td>6.0</td>\n",
       "      <td>7.0</td>\n",
       "      <td>22.0</td>\n",
       "      <td>100.0</td>\n",
       "    </tr>\n",
       "    <tr>\n",
       "      <th>EN_NPi2020-DACm-MP-median-stor3-final_700</th>\n",
       "      <th>Mt CO2/yr</th>\n",
       "      <td>23.0</td>\n",
       "      <td>42.0</td>\n",
       "      <td>6.0</td>\n",
       "      <td>8.0</td>\n",
       "      <td>20.0</td>\n",
       "      <td>100.0</td>\n",
       "    </tr>\n",
       "    <tr>\n",
       "      <th>EN_NPi2020-DACm-MP-median-stor3-phs-govmSSP1-CO2total_1000</th>\n",
       "      <th>Mt CO2/yr</th>\n",
       "      <td>22.0</td>\n",
       "      <td>43.0</td>\n",
       "      <td>7.0</td>\n",
       "      <td>9.0</td>\n",
       "      <td>19.0</td>\n",
       "      <td>100.0</td>\n",
       "    </tr>\n",
       "    <tr>\n",
       "      <th>EN_NPi2020-DACm-MP-median-stor3-phs-govmSSP1-CO2total_700</th>\n",
       "      <th>Mt CO2/yr</th>\n",
       "      <td>17.0</td>\n",
       "      <td>46.0</td>\n",
       "      <td>7.0</td>\n",
       "      <td>9.0</td>\n",
       "      <td>22.0</td>\n",
       "      <td>100.0</td>\n",
       "    </tr>\n",
       "    <tr>\n",
       "      <th>EN_NPi2020-DACm-MP-median-stor3-phs-govmSSP2-CO2total_1000</th>\n",
       "      <th>Mt CO2/yr</th>\n",
       "      <td>16.0</td>\n",
       "      <td>56.0</td>\n",
       "      <td>6.0</td>\n",
       "      <td>10.0</td>\n",
       "      <td>11.0</td>\n",
       "      <td>100.0</td>\n",
       "    </tr>\n",
       "    <tr>\n",
       "      <th>EN_NPi2020-stor3-final_1000</th>\n",
       "      <th>Mt CO2/yr</th>\n",
       "      <td>18.0</td>\n",
       "      <td>26.0</td>\n",
       "      <td>13.0</td>\n",
       "      <td>12.0</td>\n",
       "      <td>31.0</td>\n",
       "      <td>100.0</td>\n",
       "    </tr>\n",
       "    <tr>\n",
       "      <th>EN_NPi2020-stor3-final_500</th>\n",
       "      <th>Mt CO2/yr</th>\n",
       "      <td>19.0</td>\n",
       "      <td>25.0</td>\n",
       "      <td>14.0</td>\n",
       "      <td>12.0</td>\n",
       "      <td>29.0</td>\n",
       "      <td>100.0</td>\n",
       "    </tr>\n",
       "    <tr>\n",
       "      <th>EN_NPi2020-stor3-final_700</th>\n",
       "      <th>Mt CO2/yr</th>\n",
       "      <td>19.0</td>\n",
       "      <td>25.0</td>\n",
       "      <td>13.0</td>\n",
       "      <td>12.0</td>\n",
       "      <td>30.0</td>\n",
       "      <td>100.0</td>\n",
       "    </tr>\n",
       "  </tbody>\n",
       "</table>\n",
       "</div>"
      ],
      "text/plain": [
       "region                                                                          Africa  \\\n",
       "model             scenario                                           unit                \n",
       "GENIE_SSP2_v4.1.7 EN_NPi2020-DACm-MP-median-stor3-final_1000         Mt CO2/yr    21.0   \n",
       "                  EN_NPi2020-DACm-MP-median-stor3-final_500          Mt CO2/yr    20.0   \n",
       "                  EN_NPi2020-DACm-MP-median-stor3-final_700          Mt CO2/yr    23.0   \n",
       "                  EN_NPi2020-DACm-MP-median-stor3-phs-govmSSP1-CO... Mt CO2/yr    22.0   \n",
       "                  EN_NPi2020-DACm-MP-median-stor3-phs-govmSSP1-CO... Mt CO2/yr    17.0   \n",
       "                  EN_NPi2020-DACm-MP-median-stor3-phs-govmSSP2-CO... Mt CO2/yr    16.0   \n",
       "                  EN_NPi2020-stor3-final_1000                        Mt CO2/yr    18.0   \n",
       "                  EN_NPi2020-stor3-final_500                         Mt CO2/yr    19.0   \n",
       "                  EN_NPi2020-stor3-final_700                         Mt CO2/yr    19.0   \n",
       "\n",
       "region                                                                          Annex I  \\\n",
       "model             scenario                                           unit                 \n",
       "GENIE_SSP2_v4.1.7 EN_NPi2020-DACm-MP-median-stor3-final_1000         Mt CO2/yr     47.0   \n",
       "                  EN_NPi2020-DACm-MP-median-stor3-final_500          Mt CO2/yr     44.0   \n",
       "                  EN_NPi2020-DACm-MP-median-stor3-final_700          Mt CO2/yr     42.0   \n",
       "                  EN_NPi2020-DACm-MP-median-stor3-phs-govmSSP1-CO... Mt CO2/yr     43.0   \n",
       "                  EN_NPi2020-DACm-MP-median-stor3-phs-govmSSP1-CO... Mt CO2/yr     46.0   \n",
       "                  EN_NPi2020-DACm-MP-median-stor3-phs-govmSSP2-CO... Mt CO2/yr     56.0   \n",
       "                  EN_NPi2020-stor3-final_1000                        Mt CO2/yr     26.0   \n",
       "                  EN_NPi2020-stor3-final_500                         Mt CO2/yr     25.0   \n",
       "                  EN_NPi2020-stor3-final_700                         Mt CO2/yr     25.0   \n",
       "\n",
       "region                                                                          Asia  \\\n",
       "model             scenario                                           unit              \n",
       "GENIE_SSP2_v4.1.7 EN_NPi2020-DACm-MP-median-stor3-final_1000         Mt CO2/yr   4.0   \n",
       "                  EN_NPi2020-DACm-MP-median-stor3-final_500          Mt CO2/yr   6.0   \n",
       "                  EN_NPi2020-DACm-MP-median-stor3-final_700          Mt CO2/yr   6.0   \n",
       "                  EN_NPi2020-DACm-MP-median-stor3-phs-govmSSP1-CO... Mt CO2/yr   7.0   \n",
       "                  EN_NPi2020-DACm-MP-median-stor3-phs-govmSSP1-CO... Mt CO2/yr   7.0   \n",
       "                  EN_NPi2020-DACm-MP-median-stor3-phs-govmSSP2-CO... Mt CO2/yr   6.0   \n",
       "                  EN_NPi2020-stor3-final_1000                        Mt CO2/yr  13.0   \n",
       "                  EN_NPi2020-stor3-final_500                         Mt CO2/yr  14.0   \n",
       "                  EN_NPi2020-stor3-final_700                         Mt CO2/yr  13.0   \n",
       "\n",
       "region                                                                          China  \\\n",
       "model             scenario                                           unit               \n",
       "GENIE_SSP2_v4.1.7 EN_NPi2020-DACm-MP-median-stor3-final_1000         Mt CO2/yr    8.0   \n",
       "                  EN_NPi2020-DACm-MP-median-stor3-final_500          Mt CO2/yr    7.0   \n",
       "                  EN_NPi2020-DACm-MP-median-stor3-final_700          Mt CO2/yr    8.0   \n",
       "                  EN_NPi2020-DACm-MP-median-stor3-phs-govmSSP1-CO... Mt CO2/yr    9.0   \n",
       "                  EN_NPi2020-DACm-MP-median-stor3-phs-govmSSP1-CO... Mt CO2/yr    9.0   \n",
       "                  EN_NPi2020-DACm-MP-median-stor3-phs-govmSSP2-CO... Mt CO2/yr   10.0   \n",
       "                  EN_NPi2020-stor3-final_1000                        Mt CO2/yr   12.0   \n",
       "                  EN_NPi2020-stor3-final_500                         Mt CO2/yr   12.0   \n",
       "                  EN_NPi2020-stor3-final_700                         Mt CO2/yr   12.0   \n",
       "\n",
       "region                                                                           LAM  \\\n",
       "model             scenario                                           unit              \n",
       "GENIE_SSP2_v4.1.7 EN_NPi2020-DACm-MP-median-stor3-final_1000         Mt CO2/yr  19.0   \n",
       "                  EN_NPi2020-DACm-MP-median-stor3-final_500          Mt CO2/yr  22.0   \n",
       "                  EN_NPi2020-DACm-MP-median-stor3-final_700          Mt CO2/yr  20.0   \n",
       "                  EN_NPi2020-DACm-MP-median-stor3-phs-govmSSP1-CO... Mt CO2/yr  19.0   \n",
       "                  EN_NPi2020-DACm-MP-median-stor3-phs-govmSSP1-CO... Mt CO2/yr  22.0   \n",
       "                  EN_NPi2020-DACm-MP-median-stor3-phs-govmSSP2-CO... Mt CO2/yr  11.0   \n",
       "                  EN_NPi2020-stor3-final_1000                        Mt CO2/yr  31.0   \n",
       "                  EN_NPi2020-stor3-final_500                         Mt CO2/yr  29.0   \n",
       "                  EN_NPi2020-stor3-final_700                         Mt CO2/yr  30.0   \n",
       "\n",
       "region                                                                          World  \n",
       "model             scenario                                           unit              \n",
       "GENIE_SSP2_v4.1.7 EN_NPi2020-DACm-MP-median-stor3-final_1000         Mt CO2/yr  100.0  \n",
       "                  EN_NPi2020-DACm-MP-median-stor3-final_500          Mt CO2/yr  100.0  \n",
       "                  EN_NPi2020-DACm-MP-median-stor3-final_700          Mt CO2/yr  100.0  \n",
       "                  EN_NPi2020-DACm-MP-median-stor3-phs-govmSSP1-CO... Mt CO2/yr  100.0  \n",
       "                  EN_NPi2020-DACm-MP-median-stor3-phs-govmSSP1-CO... Mt CO2/yr  100.0  \n",
       "                  EN_NPi2020-DACm-MP-median-stor3-phs-govmSSP2-CO... Mt CO2/yr  100.0  \n",
       "                  EN_NPi2020-stor3-final_1000                        Mt CO2/yr  100.0  \n",
       "                  EN_NPi2020-stor3-final_500                         Mt CO2/yr  100.0  \n",
       "                  EN_NPi2020-stor3-final_700                         Mt CO2/yr  100.0  "
      ]
     },
     "execution_count": 28,
     "metadata": {},
     "output_type": "execute_result"
    }
   ],
   "source": [
    "shares.loc[pd.IndexSlice[:,:,'CDR',:,'netzero-2100']].round(0)"
   ]
  }
 ],
 "metadata": {
  "kernelspec": {
   "display_name": "Python 3 (ipykernel)",
   "language": "python",
   "name": "python3"
  },
  "language_info": {
   "codemirror_mode": {
    "name": "ipython",
    "version": 3
   },
   "file_extension": ".py",
   "mimetype": "text/x-python",
   "name": "python",
   "nbconvert_exporter": "python",
   "pygments_lexer": "ipython3",
   "version": "3.8.13"
  },
  "vscode": {
   "interpreter": {
    "hash": "c5fa4ec01cdd0b6642a53aef386dea345857232e945c5aecb3c6bc5fa5868454"
   }
  }
 },
 "nbformat": 4,
 "nbformat_minor": 2
}

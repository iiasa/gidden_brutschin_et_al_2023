{
 "cells": [
  {
   "cell_type": "code",
   "execution_count": 1,
   "metadata": {},
   "outputs": [
    {
     "data": {
      "application/javascript": "if (typeof IPython !== 'undefined') { IPython.OutputArea.prototype._should_scroll = function(lines){ return false; }}",
      "text/plain": [
       "<IPython.core.display.Javascript object>"
      ]
     },
     "metadata": {},
     "output_type": "display_data"
    }
   ],
   "source": [
    "import itertools\n",
    "import pathlib\n",
    "import pyam\n",
    "\n",
    "import numpy as np\n",
    "import pandas as pd\n",
    "import seaborn as sns\n",
    "import matplotlib.pyplot as plt\n",
    "import matplotlib.cm as compile\n",
    "\n",
    "# Catch setting with copy warning\n",
    "pd.options.mode.chained_assignment = None\n",
    "\n",
    "sns.set_style('whitegrid')"
   ]
  },
  {
   "attachments": {},
   "cell_type": "markdown",
   "metadata": {},
   "source": [
    "# Read Data"
   ]
  },
  {
   "cell_type": "code",
   "execution_count": 2,
   "metadata": {},
   "outputs": [
    {
     "name": "stderr",
     "output_type": "stream",
     "text": [
      "pyam - INFO: Running in a notebook, setting up a basic logging at level INFO\n",
      "pyam.core - INFO: Reading file ../../data/gidden_brutschin_et_al_2023.xlsx\n",
      "pyam.core - INFO: Reading meta indicators\n"
     ]
    }
   ],
   "source": [
    "datapath = pathlib.Path('../../data')\n",
    "fulldf = pyam.IamDataFrame(datapath / 'gidden_brutschin_et_al_2023.xlsx')"
   ]
  },
  {
   "cell_type": "code",
   "execution_count": 3,
   "metadata": {},
   "outputs": [],
   "source": [
    "scens = pd.read_excel(datapath / 'scenarios_assessed.xlsx', sheet_name='equity_comparison')"
   ]
  },
  {
   "attachments": {},
   "cell_type": "markdown",
   "metadata": {},
   "source": [
    "Now, we filter out for the necessary scenarios."
   ]
  },
  {
   "cell_type": "code",
   "execution_count": 4,
   "metadata": {},
   "outputs": [],
   "source": [
    "equity_data = fulldf.filter(\n",
    "    scenario=scens['Scenario']\n",
    ")"
   ]
  },
  {
   "cell_type": "code",
   "execution_count": 5,
   "metadata": {},
   "outputs": [],
   "source": [
    "native_regions = [\n",
    "    'AFR',\n",
    "     'CPA',\n",
    "     'EEU',\n",
    "     'FSU',\n",
    "     'LAM',\n",
    "     'MEA',\n",
    "     'NAM',\n",
    "     'PAO',\n",
    "     'PAS',\n",
    "     'SAS',\n",
    "     'WEU',\n",
    "     'R5LAM',\n",
    "     'R5MAF',\n",
    "     'R5OECD90+EU',\n",
    "     'R5REF',\n",
    "     'R5ASIA'\n",
    "]\n",
    "equity_data = equity_data.filter(region=native_regions, keep=False)"
   ]
  },
  {
   "cell_type": "code",
   "execution_count": 6,
   "metadata": {},
   "outputs": [
    {
     "data": {
      "text/plain": [
       "['China & Centrally Planned Asia',\n",
       " 'Developed Regions',\n",
       " 'Latin America',\n",
       " 'Middle East & Africa',\n",
       " 'South & South East Asia',\n",
       " 'World']"
      ]
     },
     "execution_count": 6,
     "metadata": {},
     "output_type": "execute_result"
    }
   ],
   "source": [
    "equity_data.region"
   ]
  },
  {
   "cell_type": "code",
   "execution_count": 7,
   "metadata": {},
   "outputs": [],
   "source": [
    "meta = equity_data.meta\n",
    "meta_blacklist = []\n",
    "for r in native_regions:\n",
    "    cols = [c for c in meta.columns if r in c]\n",
    "    meta_blacklist += cols\n",
    "equity_data.meta = meta[list(set(meta.columns) - set(meta_blacklist))]"
   ]
  },
  {
   "attachments": {},
   "cell_type": "markdown",
   "metadata": {},
   "source": [
    "# Equity of carbon budgets"
   ]
  },
  {
   "attachments": {},
   "cell_type": "markdown",
   "metadata": {},
   "source": [
    "First, we need the cumulative debt to be summed up between 1990 and 2019."
   ]
  },
  {
   "cell_type": "code",
   "execution_count": 8,
   "metadata": {},
   "outputs": [
    {
     "data": {
      "text/html": [
       "<div>\n",
       "<style scoped>\n",
       "    .dataframe tbody tr th:only-of-type {\n",
       "        vertical-align: middle;\n",
       "    }\n",
       "\n",
       "    .dataframe tbody tr th {\n",
       "        vertical-align: top;\n",
       "    }\n",
       "\n",
       "    .dataframe thead th {\n",
       "        text-align: right;\n",
       "    }\n",
       "</style>\n",
       "<table border=\"1\" class=\"dataframe\">\n",
       "  <thead>\n",
       "    <tr style=\"text-align: right;\">\n",
       "      <th></th>\n",
       "      <th>model</th>\n",
       "      <th>scenario</th>\n",
       "      <th>region</th>\n",
       "      <th>variable</th>\n",
       "      <th>unit</th>\n",
       "      <th>year</th>\n",
       "      <th>value</th>\n",
       "    </tr>\n",
       "  </thead>\n",
       "  <tbody>\n",
       "    <tr>\n",
       "      <th>0</th>\n",
       "      <td>MESSAGEix-GLOBIOM_1.1</td>\n",
       "      <td>EN_NPi2020-DACm-MP-median-stor3-final_1000</td>\n",
       "      <td>China &amp; Centrally Planned Asia</td>\n",
       "      <td>Emissions|CO2|Debt</td>\n",
       "      <td>Mt CO2/yr</td>\n",
       "      <td>1990</td>\n",
       "      <td>-4238.023991</td>\n",
       "    </tr>\n",
       "    <tr>\n",
       "      <th>1</th>\n",
       "      <td>MESSAGEix-GLOBIOM_1.1</td>\n",
       "      <td>EN_NPi2020-DACm-MP-median-stor3-final_1000</td>\n",
       "      <td>China &amp; Centrally Planned Asia</td>\n",
       "      <td>Emissions|CO2|Debt</td>\n",
       "      <td>Mt CO2/yr</td>\n",
       "      <td>1991</td>\n",
       "      <td>-4151.551031</td>\n",
       "    </tr>\n",
       "    <tr>\n",
       "      <th>2</th>\n",
       "      <td>MESSAGEix-GLOBIOM_1.1</td>\n",
       "      <td>EN_NPi2020-DACm-MP-median-stor3-final_1000</td>\n",
       "      <td>China &amp; Centrally Planned Asia</td>\n",
       "      <td>Emissions|CO2|Debt</td>\n",
       "      <td>Mt CO2/yr</td>\n",
       "      <td>1992</td>\n",
       "      <td>-4065.527500</td>\n",
       "    </tr>\n",
       "    <tr>\n",
       "      <th>3</th>\n",
       "      <td>MESSAGEix-GLOBIOM_1.1</td>\n",
       "      <td>EN_NPi2020-DACm-MP-median-stor3-final_1000</td>\n",
       "      <td>China &amp; Centrally Planned Asia</td>\n",
       "      <td>Emissions|CO2|Debt</td>\n",
       "      <td>Mt CO2/yr</td>\n",
       "      <td>1993</td>\n",
       "      <td>-3979.933033</td>\n",
       "    </tr>\n",
       "    <tr>\n",
       "      <th>4</th>\n",
       "      <td>MESSAGEix-GLOBIOM_1.1</td>\n",
       "      <td>EN_NPi2020-DACm-MP-median-stor3-final_1000</td>\n",
       "      <td>China &amp; Centrally Planned Asia</td>\n",
       "      <td>Emissions|CO2|Debt</td>\n",
       "      <td>Mt CO2/yr</td>\n",
       "      <td>1994</td>\n",
       "      <td>-3894.748473</td>\n",
       "    </tr>\n",
       "  </tbody>\n",
       "</table>\n",
       "</div>"
      ],
      "text/plain": [
       "                   model                                    scenario  \\\n",
       "0  MESSAGEix-GLOBIOM_1.1  EN_NPi2020-DACm-MP-median-stor3-final_1000   \n",
       "1  MESSAGEix-GLOBIOM_1.1  EN_NPi2020-DACm-MP-median-stor3-final_1000   \n",
       "2  MESSAGEix-GLOBIOM_1.1  EN_NPi2020-DACm-MP-median-stor3-final_1000   \n",
       "3  MESSAGEix-GLOBIOM_1.1  EN_NPi2020-DACm-MP-median-stor3-final_1000   \n",
       "4  MESSAGEix-GLOBIOM_1.1  EN_NPi2020-DACm-MP-median-stor3-final_1000   \n",
       "\n",
       "                           region            variable       unit  year  \\\n",
       "0  China & Centrally Planned Asia  Emissions|CO2|Debt  Mt CO2/yr  1990   \n",
       "1  China & Centrally Planned Asia  Emissions|CO2|Debt  Mt CO2/yr  1991   \n",
       "2  China & Centrally Planned Asia  Emissions|CO2|Debt  Mt CO2/yr  1992   \n",
       "3  China & Centrally Planned Asia  Emissions|CO2|Debt  Mt CO2/yr  1993   \n",
       "4  China & Centrally Planned Asia  Emissions|CO2|Debt  Mt CO2/yr  1994   \n",
       "\n",
       "         value  \n",
       "0 -4238.023991  \n",
       "1 -4151.551031  \n",
       "2 -4065.527500  \n",
       "3 -3979.933033  \n",
       "4 -3894.748473  "
      ]
     },
     "execution_count": 8,
     "metadata": {},
     "output_type": "execute_result"
    }
   ],
   "source": [
    "equity_data_debt = (\n",
    "    equity_data\n",
    "    .filter(\n",
    "        variable='Emissions|CO2|Debt',\n",
    "        year=range(1990,2020)\n",
    "    )\n",
    ")\n",
    "equity_data_debt.head()"
   ]
  },
  {
   "cell_type": "code",
   "execution_count": 9,
   "metadata": {},
   "outputs": [],
   "source": [
    "for region in equity_data_debt.region:\n",
    "    variable=f'Cumulative Emissions|CO2|Debt in {region} until 2020'\n",
    "    data_ts = (\n",
    "        equity_data_debt\n",
    "        .filter(region=region)\n",
    "        .timeseries()\n",
    "    )\n",
    "    equity_data.set_meta(\n",
    "        data_ts.apply(\n",
    "            lambda x: pyam.cumulative(\n",
    "                x,\n",
    "                first_year=1990,\n",
    "                last_year=2019\n",
    "            ),\n",
    "            axis=1\n",
    "        ),\n",
    "        name=variable\n",
    "    )"
   ]
  },
  {
   "attachments": {},
   "cell_type": "markdown",
   "metadata": {},
   "source": [
    "Identify columns we will use for the analysis of the carbon budgets."
   ]
  },
  {
   "cell_type": "code",
   "execution_count": 10,
   "metadata": {},
   "outputs": [],
   "source": [
    "cols_debt = [\n",
    "    x for x in equity_data.meta \n",
    "    if x.startswith('Cumulative Emissions|CO2|Debt')\n",
    "    and not (x.endswith('until net-zero'))\n",
    "]"
   ]
  },
  {
   "cell_type": "code",
   "execution_count": 11,
   "metadata": {},
   "outputs": [],
   "source": [
    "cols_fair = [\n",
    "    x for x in equity_data.meta\n",
    "    if x.startswith('Cumulative Emissions|CO2|Fair')\n",
    "]"
   ]
  },
  {
   "cell_type": "code",
   "execution_count": 12,
   "metadata": {},
   "outputs": [],
   "source": [
    "cols_model = [\n",
    "    x for x in equity_data.meta\n",
    "    if x.startswith('Cumulative Emissions|CO2 in')\n",
    "]"
   ]
  },
  {
   "cell_type": "code",
   "execution_count": 13,
   "metadata": {},
   "outputs": [],
   "source": [
    "cols_equity = cols_debt + cols_fair + cols_model"
   ]
  },
  {
   "cell_type": "code",
   "execution_count": 14,
   "metadata": {},
   "outputs": [],
   "source": [
    "fair_budget_data = equity_data.meta[cols_equity]"
   ]
  },
  {
   "attachments": {},
   "cell_type": "markdown",
   "metadata": {},
   "source": [
    "Finally, we want to add the debt to the forward-looking fair emission allocations. "
   ]
  },
  {
   "cell_type": "code",
   "execution_count": 15,
   "metadata": {},
   "outputs": [],
   "source": [
    "for region in equity_data.region:\n",
    "    a_to_add = f'Cumulative Emissions|CO2|Fair in {region} until net-zero'\n",
    "    b_to_add = f'Cumulative Emissions|CO2|Debt in {region} until 2020'\n",
    "    name = f'Cumulative Emissions|CO2|Fair in {region} until net-zero-including-debt'\n",
    "    # Add the necessary data\n",
    "    fair_budget_data.loc[:,name] = (\n",
    "        fair_budget_data.loc[:,a_to_add] \n",
    "        - \n",
    "        fair_budget_data.loc[:,b_to_add]\n",
    "    )"
   ]
  },
  {
   "attachments": {},
   "cell_type": "markdown",
   "metadata": {},
   "source": [
    "Now we need to reshape the data so that we can plot it out."
   ]
  },
  {
   "cell_type": "code",
   "execution_count": 16,
   "metadata": {},
   "outputs": [],
   "source": [
    "fair_budget_reshaped = (\n",
    "    fair_budget_data\n",
    "    .stack()\n",
    "    .reset_index(level=-1)\n",
    "    .rename(\n",
    "        columns={0:'value'}\n",
    "    )\n",
    ")"
   ]
  },
  {
   "attachments": {},
   "cell_type": "markdown",
   "metadata": {},
   "source": [
    "Add a dictionary to facilitate the renaming."
   ]
  },
  {
   "cell_type": "code",
   "execution_count": 17,
   "metadata": {},
   "outputs": [],
   "source": [
    "renaming_dictionary = {\n",
    "    'China & Centrally Planned Asia':'China',\n",
    "    'Developed Regions':'Developed',\n",
    "    'Latin America':'Latin',\n",
    "    'Middle East & Africa':'Africa',\n",
    "    'South & South East Asia':'Asia'\n",
    "}"
   ]
  },
  {
   "cell_type": "code",
   "execution_count": 18,
   "metadata": {},
   "outputs": [],
   "source": [
    "for key in renaming_dictionary.keys():\n",
    "    fair_budget_reshaped.loc[:,'level_2'] = (\n",
    "        fair_budget_reshaped.loc[:,'level_2'].apply(\n",
    "            lambda x: x.replace(\n",
    "                key,\n",
    "                renaming_dictionary[key]\n",
    "            )\n",
    "        )\n",
    "    )"
   ]
  },
  {
   "cell_type": "code",
   "execution_count": 19,
   "metadata": {},
   "outputs": [],
   "source": [
    "split_elements = (\n",
    "    fair_budget_reshaped['level_2']\n",
    "    .apply(lambda x: x.split(' '))\n",
    ")"
   ]
  },
  {
   "cell_type": "code",
   "execution_count": 20,
   "metadata": {},
   "outputs": [],
   "source": [
    "fair_budget_reshaped.loc[:,'variable'] = split_elements.apply(lambda x: x[1])\n",
    "fair_budget_reshaped.loc[:,'region'] = split_elements.apply(lambda x: x[3])\n",
    "fair_budget_reshaped.loc[:,'consideration'] = split_elements.apply(lambda x: x[5])"
   ]
  },
  {
   "cell_type": "code",
   "execution_count": 21,
   "metadata": {},
   "outputs": [],
   "source": [
    "fair_budget_reshaped = (\n",
    "    fair_budget_reshaped[\n",
    "        fair_budget_reshaped['variable']\n",
    "        .isin(['Emissions|CO2|Fair','Emissions|CO2'])\n",
    "    ]\n",
    ")"
   ]
  },
  {
   "attachments": {},
   "cell_type": "markdown",
   "metadata": {},
   "source": [
    "Copy the model data and assign the additional consideration type so that we can pivot the data."
   ]
  },
  {
   "cell_type": "code",
   "execution_count": 22,
   "metadata": {},
   "outputs": [],
   "source": [
    "fair_budget_reshaped_model = fair_budget_reshaped[fair_budget_reshaped['variable']=='Emissions|CO2']"
   ]
  },
  {
   "cell_type": "code",
   "execution_count": 23,
   "metadata": {},
   "outputs": [],
   "source": [
    "fair_budget_reshaped_model['consideration'] = 'net-zero-including-debt'"
   ]
  },
  {
   "cell_type": "code",
   "execution_count": 24,
   "metadata": {},
   "outputs": [
    {
     "data": {
      "text/plain": [
       "False"
      ]
     },
     "execution_count": 24,
     "metadata": {},
     "output_type": "execute_result"
    }
   ],
   "source": [
    "fair_budget_reshaped_model['value'].isnull().any()"
   ]
  },
  {
   "cell_type": "code",
   "execution_count": 25,
   "metadata": {},
   "outputs": [],
   "source": [
    "fair_budget_reshaped = pd.concat(\n",
    "    [fair_budget_reshaped, fair_budget_reshaped_model]\n",
    ")"
   ]
  },
  {
   "cell_type": "code",
   "execution_count": 26,
   "metadata": {},
   "outputs": [
    {
     "data": {
      "text/plain": [
       "False"
      ]
     },
     "execution_count": 26,
     "metadata": {},
     "output_type": "execute_result"
    }
   ],
   "source": [
    "fair_budget_reshaped['value'].isnull().any()"
   ]
  },
  {
   "cell_type": "code",
   "execution_count": 27,
   "metadata": {},
   "outputs": [],
   "source": [
    "fair_budget_final = pd.pivot_table(\n",
    "    fair_budget_reshaped.drop(columns='level_2').reset_index(),\n",
    "    index=['model','scenario','region','consideration'],\n",
    "    columns=['variable'],\n",
    "    values='value'\n",
    ")"
   ]
  },
  {
   "cell_type": "code",
   "execution_count": 28,
   "metadata": {},
   "outputs": [
    {
     "data": {
      "text/html": [
       "<div>\n",
       "<style scoped>\n",
       "    .dataframe tbody tr th:only-of-type {\n",
       "        vertical-align: middle;\n",
       "    }\n",
       "\n",
       "    .dataframe tbody tr th {\n",
       "        vertical-align: top;\n",
       "    }\n",
       "\n",
       "    .dataframe thead th {\n",
       "        text-align: right;\n",
       "    }\n",
       "</style>\n",
       "<table border=\"1\" class=\"dataframe\">\n",
       "  <thead>\n",
       "    <tr style=\"text-align: right;\">\n",
       "      <th></th>\n",
       "      <th></th>\n",
       "      <th></th>\n",
       "      <th>variable</th>\n",
       "      <th>Emissions|CO2</th>\n",
       "      <th>Emissions|CO2|Fair</th>\n",
       "    </tr>\n",
       "    <tr>\n",
       "      <th>model</th>\n",
       "      <th>scenario</th>\n",
       "      <th>region</th>\n",
       "      <th>consideration</th>\n",
       "      <th></th>\n",
       "      <th></th>\n",
       "    </tr>\n",
       "  </thead>\n",
       "  <tbody>\n",
       "    <tr>\n",
       "      <th rowspan=\"11\" valign=\"top\">MESSAGEix-GLOBIOM_1.1</th>\n",
       "      <th rowspan=\"5\" valign=\"top\">EN_NPi2020-DACm-MP-median-stor3-final_1000</th>\n",
       "      <th rowspan=\"2\" valign=\"top\">Africa</th>\n",
       "      <th>net-zero</th>\n",
       "      <td>168342.207398</td>\n",
       "      <td>216599.511197</td>\n",
       "    </tr>\n",
       "    <tr>\n",
       "      <th>net-zero-including-debt</th>\n",
       "      <td>168342.207398</td>\n",
       "      <td>274798.539020</td>\n",
       "    </tr>\n",
       "    <tr>\n",
       "      <th rowspan=\"2\" valign=\"top\">Asia</th>\n",
       "      <th>net-zero</th>\n",
       "      <td>234390.778236</td>\n",
       "      <td>310442.610053</td>\n",
       "    </tr>\n",
       "    <tr>\n",
       "      <th>net-zero-including-debt</th>\n",
       "      <td>234390.778236</td>\n",
       "      <td>503278.224715</td>\n",
       "    </tr>\n",
       "    <tr>\n",
       "      <th>China</th>\n",
       "      <th>net-zero</th>\n",
       "      <td>217808.798862</td>\n",
       "      <td>165846.347047</td>\n",
       "    </tr>\n",
       "    <tr>\n",
       "      <th>...</th>\n",
       "      <th>...</th>\n",
       "      <th>...</th>\n",
       "      <td>...</td>\n",
       "      <td>...</td>\n",
       "    </tr>\n",
       "    <tr>\n",
       "      <th rowspan=\"5\" valign=\"top\">EN_NPi2020-stor3-final_700</th>\n",
       "      <th>Developed</th>\n",
       "      <th>net-zero-including-debt</th>\n",
       "      <td>209493.000886</td>\n",
       "      <td>-141403.983385</td>\n",
       "    </tr>\n",
       "    <tr>\n",
       "      <th rowspan=\"2\" valign=\"top\">Latin</th>\n",
       "      <th>net-zero</th>\n",
       "      <td>20718.103007</td>\n",
       "      <td>53360.362807</td>\n",
       "    </tr>\n",
       "    <tr>\n",
       "      <th>net-zero-including-debt</th>\n",
       "      <td>20718.103007</td>\n",
       "      <td>28525.093800</td>\n",
       "    </tr>\n",
       "    <tr>\n",
       "      <th rowspan=\"2\" valign=\"top\">World</th>\n",
       "      <th>net-zero</th>\n",
       "      <td>640603.766001</td>\n",
       "      <td>640603.766001</td>\n",
       "    </tr>\n",
       "    <tr>\n",
       "      <th>net-zero-including-debt</th>\n",
       "      <td>640603.766001</td>\n",
       "      <td>640603.766001</td>\n",
       "    </tr>\n",
       "  </tbody>\n",
       "</table>\n",
       "<p>132 rows × 2 columns</p>\n",
       "</div>"
      ],
      "text/plain": [
       "variable                                                                                            Emissions|CO2  \\\n",
       "model                 scenario                                   region    consideration                            \n",
       "MESSAGEix-GLOBIOM_1.1 EN_NPi2020-DACm-MP-median-stor3-final_1000 Africa    net-zero                 168342.207398   \n",
       "                                                                           net-zero-including-debt  168342.207398   \n",
       "                                                                 Asia      net-zero                 234390.778236   \n",
       "                                                                           net-zero-including-debt  234390.778236   \n",
       "                                                                 China     net-zero                 217808.798862   \n",
       "...                                                                                                           ...   \n",
       "                      EN_NPi2020-stor3-final_700                 Developed net-zero-including-debt  209493.000886   \n",
       "                                                                 Latin     net-zero                  20718.103007   \n",
       "                                                                           net-zero-including-debt   20718.103007   \n",
       "                                                                 World     net-zero                 640603.766001   \n",
       "                                                                           net-zero-including-debt  640603.766001   \n",
       "\n",
       "variable                                                                                            Emissions|CO2|Fair  \n",
       "model                 scenario                                   region    consideration                                \n",
       "MESSAGEix-GLOBIOM_1.1 EN_NPi2020-DACm-MP-median-stor3-final_1000 Africa    net-zero                      216599.511197  \n",
       "                                                                           net-zero-including-debt       274798.539020  \n",
       "                                                                 Asia      net-zero                      310442.610053  \n",
       "                                                                           net-zero-including-debt       503278.224715  \n",
       "                                                                 China     net-zero                      165846.347047  \n",
       "...                                                                                                                ...  \n",
       "                      EN_NPi2020-stor3-final_700                 Developed net-zero-including-debt      -141403.983385  \n",
       "                                                                 Latin     net-zero                       53360.362807  \n",
       "                                                                           net-zero-including-debt        28525.093800  \n",
       "                                                                 World     net-zero                      640603.766001  \n",
       "                                                                           net-zero-including-debt       640603.766001  \n",
       "\n",
       "[132 rows x 2 columns]"
      ]
     },
     "execution_count": 28,
     "metadata": {},
     "output_type": "execute_result"
    }
   ],
   "source": [
    "fair_budget_final"
   ]
  },
  {
   "cell_type": "code",
   "execution_count": 29,
   "metadata": {},
   "outputs": [
    {
     "data": {
      "text/plain": [
       "variable\n",
       "Emissions|CO2         False\n",
       "Emissions|CO2|Fair    False\n",
       "dtype: bool"
      ]
     },
     "execution_count": 29,
     "metadata": {},
     "output_type": "execute_result"
    }
   ],
   "source": [
    "fair_budget_final.isnull().any()"
   ]
  },
  {
   "cell_type": "code",
   "execution_count": 30,
   "metadata": {},
   "outputs": [
    {
     "data": {
      "text/plain": [
       "Index(['Africa', 'Asia', 'China', 'Developed', 'Latin', 'World'], dtype='object', name='region')"
      ]
     },
     "execution_count": 30,
     "metadata": {},
     "output_type": "execute_result"
    }
   ],
   "source": [
    "fair_budget_final.index.get_level_values('region').unique()"
   ]
  },
  {
   "cell_type": "code",
   "execution_count": 31,
   "metadata": {},
   "outputs": [],
   "source": [
    "regions_to_assess = list(\n",
    "    set(fair_budget_final.index.get_level_values('region').unique()) - set(['World'])\n",
    ")"
   ]
  },
  {
   "cell_type": "code",
   "execution_count": 32,
   "metadata": {},
   "outputs": [
    {
     "data": {
      "text/html": [
       "<div>\n",
       "<style scoped>\n",
       "    .dataframe tbody tr th:only-of-type {\n",
       "        vertical-align: middle;\n",
       "    }\n",
       "\n",
       "    .dataframe tbody tr th {\n",
       "        vertical-align: top;\n",
       "    }\n",
       "\n",
       "    .dataframe thead th {\n",
       "        text-align: right;\n",
       "    }\n",
       "</style>\n",
       "<table border=\"1\" class=\"dataframe\">\n",
       "  <thead>\n",
       "    <tr style=\"text-align: right;\">\n",
       "      <th></th>\n",
       "      <th></th>\n",
       "      <th></th>\n",
       "      <th>variable</th>\n",
       "      <th>Emissions|CO2</th>\n",
       "      <th>Emissions|CO2|Fair</th>\n",
       "    </tr>\n",
       "    <tr>\n",
       "      <th>model</th>\n",
       "      <th>scenario</th>\n",
       "      <th>region</th>\n",
       "      <th>consideration</th>\n",
       "      <th></th>\n",
       "      <th></th>\n",
       "    </tr>\n",
       "  </thead>\n",
       "  <tbody>\n",
       "    <tr>\n",
       "      <th rowspan=\"5\" valign=\"top\">MESSAGEix-GLOBIOM_1.1</th>\n",
       "      <th rowspan=\"5\" valign=\"top\">EN_NPi2020-DACm-MP-median-stor3-final_1000</th>\n",
       "      <th rowspan=\"2\" valign=\"top\">Africa</th>\n",
       "      <th>net-zero</th>\n",
       "      <td>168342.207398</td>\n",
       "      <td>216599.511197</td>\n",
       "    </tr>\n",
       "    <tr>\n",
       "      <th>net-zero-including-debt</th>\n",
       "      <td>168342.207398</td>\n",
       "      <td>274798.539020</td>\n",
       "    </tr>\n",
       "    <tr>\n",
       "      <th rowspan=\"2\" valign=\"top\">Asia</th>\n",
       "      <th>net-zero</th>\n",
       "      <td>234390.778236</td>\n",
       "      <td>310442.610053</td>\n",
       "    </tr>\n",
       "    <tr>\n",
       "      <th>net-zero-including-debt</th>\n",
       "      <td>234390.778236</td>\n",
       "      <td>503278.224715</td>\n",
       "    </tr>\n",
       "    <tr>\n",
       "      <th>China</th>\n",
       "      <th>net-zero</th>\n",
       "      <td>217808.798862</td>\n",
       "      <td>165846.347047</td>\n",
       "    </tr>\n",
       "  </tbody>\n",
       "</table>\n",
       "</div>"
      ],
      "text/plain": [
       "variable                                                                                         Emissions|CO2  \\\n",
       "model                 scenario                                   region consideration                            \n",
       "MESSAGEix-GLOBIOM_1.1 EN_NPi2020-DACm-MP-median-stor3-final_1000 Africa net-zero                 168342.207398   \n",
       "                                                                        net-zero-including-debt  168342.207398   \n",
       "                                                                 Asia   net-zero                 234390.778236   \n",
       "                                                                        net-zero-including-debt  234390.778236   \n",
       "                                                                 China  net-zero                 217808.798862   \n",
       "\n",
       "variable                                                                                         Emissions|CO2|Fair  \n",
       "model                 scenario                                   region consideration                                \n",
       "MESSAGEix-GLOBIOM_1.1 EN_NPi2020-DACm-MP-median-stor3-final_1000 Africa net-zero                      216599.511197  \n",
       "                                                                        net-zero-including-debt       274798.539020  \n",
       "                                                                 Asia   net-zero                      310442.610053  \n",
       "                                                                        net-zero-including-debt       503278.224715  \n",
       "                                                                 China  net-zero                      165846.347047  "
      ]
     },
     "execution_count": 32,
     "metadata": {},
     "output_type": "execute_result"
    }
   ],
   "source": [
    "fair_budget_final.head()"
   ]
  },
  {
   "cell_type": "code",
   "execution_count": 33,
   "metadata": {},
   "outputs": [],
   "source": [
    "fair_budget_final = fair_budget_final.loc[pd.IndexSlice[:, :, regions_to_assess,:]]"
   ]
  },
  {
   "cell_type": "code",
   "execution_count": 34,
   "metadata": {},
   "outputs": [],
   "source": [
    "if fair_budget_final.isnull().any().any():\n",
    "    raise ValueError(f'Null columns: {fair_budget_final.isnull().any()}')"
   ]
  },
  {
   "attachments": {},
   "cell_type": "markdown",
   "metadata": {},
   "source": [
    "Now, we take care of unit conversion issues."
   ]
  },
  {
   "cell_type": "code",
   "execution_count": 35,
   "metadata": {},
   "outputs": [],
   "source": [
    "fair_budget_final /= 1e3"
   ]
  },
  {
   "cell_type": "code",
   "execution_count": 36,
   "metadata": {},
   "outputs": [],
   "source": [
    "fair_budget_final = fair_budget_final.assign(unit='Gt CO2')"
   ]
  },
  {
   "cell_type": "code",
   "execution_count": 37,
   "metadata": {},
   "outputs": [
    {
     "data": {
      "text/html": [
       "<div>\n",
       "<style scoped>\n",
       "    .dataframe tbody tr th:only-of-type {\n",
       "        vertical-align: middle;\n",
       "    }\n",
       "\n",
       "    .dataframe tbody tr th {\n",
       "        vertical-align: top;\n",
       "    }\n",
       "\n",
       "    .dataframe thead th {\n",
       "        text-align: right;\n",
       "    }\n",
       "</style>\n",
       "<table border=\"1\" class=\"dataframe\">\n",
       "  <thead>\n",
       "    <tr style=\"text-align: right;\">\n",
       "      <th></th>\n",
       "      <th></th>\n",
       "      <th></th>\n",
       "      <th>variable</th>\n",
       "      <th>Emissions|CO2</th>\n",
       "      <th>Emissions|CO2|Fair</th>\n",
       "      <th>unit</th>\n",
       "    </tr>\n",
       "    <tr>\n",
       "      <th>model</th>\n",
       "      <th>scenario</th>\n",
       "      <th>region</th>\n",
       "      <th>consideration</th>\n",
       "      <th></th>\n",
       "      <th></th>\n",
       "      <th></th>\n",
       "    </tr>\n",
       "  </thead>\n",
       "  <tbody>\n",
       "    <tr>\n",
       "      <th rowspan=\"11\" valign=\"top\">MESSAGEix-GLOBIOM_1.1</th>\n",
       "      <th rowspan=\"2\" valign=\"top\">EN_NPi2020-DACm-MP-median-stor3-final_1000</th>\n",
       "      <th rowspan=\"2\" valign=\"top\">China</th>\n",
       "      <th>net-zero</th>\n",
       "      <td>217.808799</td>\n",
       "      <td>165.846347</td>\n",
       "      <td>Gt CO2</td>\n",
       "    </tr>\n",
       "    <tr>\n",
       "      <th>net-zero-including-debt</th>\n",
       "      <td>217.808799</td>\n",
       "      <td>211.060488</td>\n",
       "      <td>Gt CO2</td>\n",
       "    </tr>\n",
       "    <tr>\n",
       "      <th rowspan=\"2\" valign=\"top\">EN_NPi2020-DACm-MP-median-stor3-final_500</th>\n",
       "      <th rowspan=\"2\" valign=\"top\">China</th>\n",
       "      <th>net-zero</th>\n",
       "      <td>105.255272</td>\n",
       "      <td>83.669203</td>\n",
       "      <td>Gt CO2</td>\n",
       "    </tr>\n",
       "    <tr>\n",
       "      <th>net-zero-including-debt</th>\n",
       "      <td>105.255272</td>\n",
       "      <td>128.883344</td>\n",
       "      <td>Gt CO2</td>\n",
       "    </tr>\n",
       "    <tr>\n",
       "      <th>EN_NPi2020-DACm-MP-median-stor3-final_700</th>\n",
       "      <th>China</th>\n",
       "      <th>net-zero</th>\n",
       "      <td>148.234544</td>\n",
       "      <td>117.095190</td>\n",
       "      <td>Gt CO2</td>\n",
       "    </tr>\n",
       "    <tr>\n",
       "      <th>...</th>\n",
       "      <th>...</th>\n",
       "      <th>...</th>\n",
       "      <td>...</td>\n",
       "      <td>...</td>\n",
       "      <td>...</td>\n",
       "    </tr>\n",
       "    <tr>\n",
       "      <th>EN_NPi2020-stor3-final_1000</th>\n",
       "      <th>Latin</th>\n",
       "      <th>net-zero-including-debt</th>\n",
       "      <td>-4.289697</td>\n",
       "      <td>53.369968</td>\n",
       "      <td>Gt CO2</td>\n",
       "    </tr>\n",
       "    <tr>\n",
       "      <th rowspan=\"2\" valign=\"top\">EN_NPi2020-stor3-final_500</th>\n",
       "      <th rowspan=\"2\" valign=\"top\">Latin</th>\n",
       "      <th>net-zero</th>\n",
       "      <td>12.763978</td>\n",
       "      <td>37.406550</td>\n",
       "      <td>Gt CO2</td>\n",
       "    </tr>\n",
       "    <tr>\n",
       "      <th>net-zero-including-debt</th>\n",
       "      <td>12.763978</td>\n",
       "      <td>12.571281</td>\n",
       "      <td>Gt CO2</td>\n",
       "    </tr>\n",
       "    <tr>\n",
       "      <th rowspan=\"2\" valign=\"top\">EN_NPi2020-stor3-final_700</th>\n",
       "      <th rowspan=\"2\" valign=\"top\">Latin</th>\n",
       "      <th>net-zero</th>\n",
       "      <td>20.718103</td>\n",
       "      <td>53.360363</td>\n",
       "      <td>Gt CO2</td>\n",
       "    </tr>\n",
       "    <tr>\n",
       "      <th>net-zero-including-debt</th>\n",
       "      <td>20.718103</td>\n",
       "      <td>28.525094</td>\n",
       "      <td>Gt CO2</td>\n",
       "    </tr>\n",
       "  </tbody>\n",
       "</table>\n",
       "<p>110 rows × 3 columns</p>\n",
       "</div>"
      ],
      "text/plain": [
       "variable                                                                                         Emissions|CO2  \\\n",
       "model                 scenario                                   region consideration                            \n",
       "MESSAGEix-GLOBIOM_1.1 EN_NPi2020-DACm-MP-median-stor3-final_1000 China  net-zero                    217.808799   \n",
       "                                                                        net-zero-including-debt     217.808799   \n",
       "                      EN_NPi2020-DACm-MP-median-stor3-final_500  China  net-zero                    105.255272   \n",
       "                                                                        net-zero-including-debt     105.255272   \n",
       "                      EN_NPi2020-DACm-MP-median-stor3-final_700  China  net-zero                    148.234544   \n",
       "...                                                                                                        ...   \n",
       "                      EN_NPi2020-stor3-final_1000                Latin  net-zero-including-debt      -4.289697   \n",
       "                      EN_NPi2020-stor3-final_500                 Latin  net-zero                     12.763978   \n",
       "                                                                        net-zero-including-debt      12.763978   \n",
       "                      EN_NPi2020-stor3-final_700                 Latin  net-zero                     20.718103   \n",
       "                                                                        net-zero-including-debt      20.718103   \n",
       "\n",
       "variable                                                                                         Emissions|CO2|Fair  \\\n",
       "model                 scenario                                   region consideration                                 \n",
       "MESSAGEix-GLOBIOM_1.1 EN_NPi2020-DACm-MP-median-stor3-final_1000 China  net-zero                         165.846347   \n",
       "                                                                        net-zero-including-debt          211.060488   \n",
       "                      EN_NPi2020-DACm-MP-median-stor3-final_500  China  net-zero                          83.669203   \n",
       "                                                                        net-zero-including-debt          128.883344   \n",
       "                      EN_NPi2020-DACm-MP-median-stor3-final_700  China  net-zero                         117.095190   \n",
       "...                                                                                                             ...   \n",
       "                      EN_NPi2020-stor3-final_1000                Latin  net-zero-including-debt           53.369968   \n",
       "                      EN_NPi2020-stor3-final_500                 Latin  net-zero                          37.406550   \n",
       "                                                                        net-zero-including-debt           12.571281   \n",
       "                      EN_NPi2020-stor3-final_700                 Latin  net-zero                          53.360363   \n",
       "                                                                        net-zero-including-debt           28.525094   \n",
       "\n",
       "variable                                                                                           unit  \n",
       "model                 scenario                                   region consideration                    \n",
       "MESSAGEix-GLOBIOM_1.1 EN_NPi2020-DACm-MP-median-stor3-final_1000 China  net-zero                 Gt CO2  \n",
       "                                                                        net-zero-including-debt  Gt CO2  \n",
       "                      EN_NPi2020-DACm-MP-median-stor3-final_500  China  net-zero                 Gt CO2  \n",
       "                                                                        net-zero-including-debt  Gt CO2  \n",
       "                      EN_NPi2020-DACm-MP-median-stor3-final_700  China  net-zero                 Gt CO2  \n",
       "...                                                                                                 ...  \n",
       "                      EN_NPi2020-stor3-final_1000                Latin  net-zero-including-debt  Gt CO2  \n",
       "                      EN_NPi2020-stor3-final_500                 Latin  net-zero                 Gt CO2  \n",
       "                                                                        net-zero-including-debt  Gt CO2  \n",
       "                      EN_NPi2020-stor3-final_700                 Latin  net-zero                 Gt CO2  \n",
       "                                                                        net-zero-including-debt  Gt CO2  \n",
       "\n",
       "[110 rows x 3 columns]"
      ]
     },
     "execution_count": 37,
     "metadata": {},
     "output_type": "execute_result"
    }
   ],
   "source": [
    "fair_budget_final"
   ]
  },
  {
   "cell_type": "code",
   "execution_count": 38,
   "metadata": {},
   "outputs": [],
   "source": [
    "fig8_data = (\n",
    "    pd.merge(\n",
    "        fair_budget_final.reset_index(),\n",
    "        scens, \n",
    "        right_on=['Scenario'], \n",
    "        left_on=['scenario']\n",
    "    )\n",
    "    .drop(columns=['Model','Scenario'])\n",
    ")"
   ]
  },
  {
   "cell_type": "code",
   "execution_count": 39,
   "metadata": {},
   "outputs": [
    {
     "data": {
      "text/plain": [
       "array(['China', 'Developed', 'Africa', 'Asia', 'Latin'], dtype=object)"
      ]
     },
     "execution_count": 39,
     "metadata": {},
     "output_type": "execute_result"
    }
   ],
   "source": [
    "fig8_data.loc[:,'region'].unique()"
   ]
  },
  {
   "cell_type": "code",
   "execution_count": 40,
   "metadata": {},
   "outputs": [
    {
     "data": {
      "text/html": [
       "<div>\n",
       "<style scoped>\n",
       "    .dataframe tbody tr th:only-of-type {\n",
       "        vertical-align: middle;\n",
       "    }\n",
       "\n",
       "    .dataframe tbody tr th {\n",
       "        vertical-align: top;\n",
       "    }\n",
       "\n",
       "    .dataframe thead th {\n",
       "        text-align: right;\n",
       "    }\n",
       "</style>\n",
       "<table border=\"1\" class=\"dataframe\">\n",
       "  <thead>\n",
       "    <tr style=\"text-align: right;\">\n",
       "      <th></th>\n",
       "      <th>model</th>\n",
       "      <th>scenario</th>\n",
       "      <th>region</th>\n",
       "      <th>consideration</th>\n",
       "      <th>Emissions|CO2</th>\n",
       "      <th>Emissions|CO2|Fair</th>\n",
       "      <th>unit</th>\n",
       "      <th>Temperature</th>\n",
       "      <th>DAC</th>\n",
       "      <th>Technoeconomic</th>\n",
       "      <th>Diffusion</th>\n",
       "      <th>Governance</th>\n",
       "      <th>Governance SSP</th>\n",
       "    </tr>\n",
       "  </thead>\n",
       "  <tbody>\n",
       "    <tr>\n",
       "      <th>0</th>\n",
       "      <td>MESSAGEix-GLOBIOM_1.1</td>\n",
       "      <td>EN_NPi2020-DACm-MP-median-stor3-final_1000</td>\n",
       "      <td>China</td>\n",
       "      <td>net-zero</td>\n",
       "      <td>217.808799</td>\n",
       "      <td>165.846347</td>\n",
       "      <td>Gt CO2</td>\n",
       "      <td>C3 with DAC</td>\n",
       "      <td>DAC Included</td>\n",
       "      <td>Medium</td>\n",
       "      <td>Medium</td>\n",
       "      <td>Immediate Global Action</td>\n",
       "      <td>NaN</td>\n",
       "    </tr>\n",
       "    <tr>\n",
       "      <th>1</th>\n",
       "      <td>MESSAGEix-GLOBIOM_1.1</td>\n",
       "      <td>EN_NPi2020-DACm-MP-median-stor3-final_1000</td>\n",
       "      <td>China</td>\n",
       "      <td>net-zero-including-debt</td>\n",
       "      <td>217.808799</td>\n",
       "      <td>211.060488</td>\n",
       "      <td>Gt CO2</td>\n",
       "      <td>C3 with DAC</td>\n",
       "      <td>DAC Included</td>\n",
       "      <td>Medium</td>\n",
       "      <td>Medium</td>\n",
       "      <td>Immediate Global Action</td>\n",
       "      <td>NaN</td>\n",
       "    </tr>\n",
       "    <tr>\n",
       "      <th>2</th>\n",
       "      <td>MESSAGEix-GLOBIOM_1.1</td>\n",
       "      <td>EN_NPi2020-DACm-MP-median-stor3-final_1000</td>\n",
       "      <td>Developed</td>\n",
       "      <td>net-zero</td>\n",
       "      <td>250.817605</td>\n",
       "      <td>168.181019</td>\n",
       "      <td>Gt CO2</td>\n",
       "      <td>C3 with DAC</td>\n",
       "      <td>DAC Included</td>\n",
       "      <td>Medium</td>\n",
       "      <td>Medium</td>\n",
       "      <td>Immediate Global Action</td>\n",
       "      <td>NaN</td>\n",
       "    </tr>\n",
       "    <tr>\n",
       "      <th>3</th>\n",
       "      <td>MESSAGEix-GLOBIOM_1.1</td>\n",
       "      <td>EN_NPi2020-DACm-MP-median-stor3-final_1000</td>\n",
       "      <td>Developed</td>\n",
       "      <td>net-zero-including-debt</td>\n",
       "      <td>250.817605</td>\n",
       "      <td>-89.453671</td>\n",
       "      <td>Gt CO2</td>\n",
       "      <td>C3 with DAC</td>\n",
       "      <td>DAC Included</td>\n",
       "      <td>Medium</td>\n",
       "      <td>Medium</td>\n",
       "      <td>Immediate Global Action</td>\n",
       "      <td>NaN</td>\n",
       "    </tr>\n",
       "    <tr>\n",
       "      <th>4</th>\n",
       "      <td>MESSAGEix-GLOBIOM_1.1</td>\n",
       "      <td>EN_NPi2020-DACm-MP-median-stor3-final_1000</td>\n",
       "      <td>Africa</td>\n",
       "      <td>net-zero</td>\n",
       "      <td>168.342207</td>\n",
       "      <td>216.599511</td>\n",
       "      <td>Gt CO2</td>\n",
       "      <td>C3 with DAC</td>\n",
       "      <td>DAC Included</td>\n",
       "      <td>Medium</td>\n",
       "      <td>Medium</td>\n",
       "      <td>Immediate Global Action</td>\n",
       "      <td>NaN</td>\n",
       "    </tr>\n",
       "  </tbody>\n",
       "</table>\n",
       "</div>"
      ],
      "text/plain": [
       "                   model                                    scenario  \\\n",
       "0  MESSAGEix-GLOBIOM_1.1  EN_NPi2020-DACm-MP-median-stor3-final_1000   \n",
       "1  MESSAGEix-GLOBIOM_1.1  EN_NPi2020-DACm-MP-median-stor3-final_1000   \n",
       "2  MESSAGEix-GLOBIOM_1.1  EN_NPi2020-DACm-MP-median-stor3-final_1000   \n",
       "3  MESSAGEix-GLOBIOM_1.1  EN_NPi2020-DACm-MP-median-stor3-final_1000   \n",
       "4  MESSAGEix-GLOBIOM_1.1  EN_NPi2020-DACm-MP-median-stor3-final_1000   \n",
       "\n",
       "      region            consideration  Emissions|CO2  Emissions|CO2|Fair  \\\n",
       "0      China                 net-zero     217.808799          165.846347   \n",
       "1      China  net-zero-including-debt     217.808799          211.060488   \n",
       "2  Developed                 net-zero     250.817605          168.181019   \n",
       "3  Developed  net-zero-including-debt     250.817605          -89.453671   \n",
       "4     Africa                 net-zero     168.342207          216.599511   \n",
       "\n",
       "     unit  Temperature           DAC Technoeconomic Diffusion  \\\n",
       "0  Gt CO2  C3 with DAC  DAC Included         Medium    Medium   \n",
       "1  Gt CO2  C3 with DAC  DAC Included         Medium    Medium   \n",
       "2  Gt CO2  C3 with DAC  DAC Included         Medium    Medium   \n",
       "3  Gt CO2  C3 with DAC  DAC Included         Medium    Medium   \n",
       "4  Gt CO2  C3 with DAC  DAC Included         Medium    Medium   \n",
       "\n",
       "                Governance Governance SSP  \n",
       "0  Immediate Global Action            NaN  \n",
       "1  Immediate Global Action            NaN  \n",
       "2  Immediate Global Action            NaN  \n",
       "3  Immediate Global Action            NaN  \n",
       "4  Immediate Global Action            NaN  "
      ]
     },
     "execution_count": 40,
     "metadata": {},
     "output_type": "execute_result"
    }
   ],
   "source": [
    "fig8_data.head()"
   ]
  },
  {
   "attachments": {},
   "cell_type": "markdown",
   "metadata": {},
   "source": [
    "Calculate the deviation from the fair benchmarks."
   ]
  },
  {
   "cell_type": "code",
   "execution_count": 41,
   "metadata": {},
   "outputs": [],
   "source": [
    "fig8_data.loc[:,'delta'] = fig8_data['Emissions|CO2|Fair'] - fig8_data['Emissions|CO2']"
   ]
  },
  {
   "cell_type": "code",
   "execution_count": 42,
   "metadata": {},
   "outputs": [
    {
     "data": {
      "text/html": [
       "<div>\n",
       "<style scoped>\n",
       "    .dataframe tbody tr th:only-of-type {\n",
       "        vertical-align: middle;\n",
       "    }\n",
       "\n",
       "    .dataframe tbody tr th {\n",
       "        vertical-align: top;\n",
       "    }\n",
       "\n",
       "    .dataframe thead th {\n",
       "        text-align: right;\n",
       "    }\n",
       "</style>\n",
       "<table border=\"1\" class=\"dataframe\">\n",
       "  <thead>\n",
       "    <tr style=\"text-align: right;\">\n",
       "      <th></th>\n",
       "      <th>model</th>\n",
       "      <th>scenario</th>\n",
       "      <th>region</th>\n",
       "      <th>consideration</th>\n",
       "      <th>Emissions|CO2</th>\n",
       "      <th>Emissions|CO2|Fair</th>\n",
       "      <th>unit</th>\n",
       "      <th>Temperature</th>\n",
       "      <th>DAC</th>\n",
       "      <th>Technoeconomic</th>\n",
       "      <th>Diffusion</th>\n",
       "      <th>Governance</th>\n",
       "      <th>Governance SSP</th>\n",
       "      <th>delta</th>\n",
       "    </tr>\n",
       "  </thead>\n",
       "  <tbody>\n",
       "    <tr>\n",
       "      <th>0</th>\n",
       "      <td>MESSAGEix-GLOBIOM_1.1</td>\n",
       "      <td>EN_NPi2020-DACm-MP-median-stor3-final_1000</td>\n",
       "      <td>China</td>\n",
       "      <td>net-zero</td>\n",
       "      <td>217.808799</td>\n",
       "      <td>165.846347</td>\n",
       "      <td>Gt CO2</td>\n",
       "      <td>C3 with DAC</td>\n",
       "      <td>DAC Included</td>\n",
       "      <td>Medium</td>\n",
       "      <td>Medium</td>\n",
       "      <td>Immediate Global Action</td>\n",
       "      <td>NaN</td>\n",
       "      <td>-51.962452</td>\n",
       "    </tr>\n",
       "    <tr>\n",
       "      <th>1</th>\n",
       "      <td>MESSAGEix-GLOBIOM_1.1</td>\n",
       "      <td>EN_NPi2020-DACm-MP-median-stor3-final_1000</td>\n",
       "      <td>China</td>\n",
       "      <td>net-zero-including-debt</td>\n",
       "      <td>217.808799</td>\n",
       "      <td>211.060488</td>\n",
       "      <td>Gt CO2</td>\n",
       "      <td>C3 with DAC</td>\n",
       "      <td>DAC Included</td>\n",
       "      <td>Medium</td>\n",
       "      <td>Medium</td>\n",
       "      <td>Immediate Global Action</td>\n",
       "      <td>NaN</td>\n",
       "      <td>-6.748311</td>\n",
       "    </tr>\n",
       "    <tr>\n",
       "      <th>2</th>\n",
       "      <td>MESSAGEix-GLOBIOM_1.1</td>\n",
       "      <td>EN_NPi2020-DACm-MP-median-stor3-final_1000</td>\n",
       "      <td>Developed</td>\n",
       "      <td>net-zero</td>\n",
       "      <td>250.817605</td>\n",
       "      <td>168.181019</td>\n",
       "      <td>Gt CO2</td>\n",
       "      <td>C3 with DAC</td>\n",
       "      <td>DAC Included</td>\n",
       "      <td>Medium</td>\n",
       "      <td>Medium</td>\n",
       "      <td>Immediate Global Action</td>\n",
       "      <td>NaN</td>\n",
       "      <td>-82.636585</td>\n",
       "    </tr>\n",
       "    <tr>\n",
       "      <th>3</th>\n",
       "      <td>MESSAGEix-GLOBIOM_1.1</td>\n",
       "      <td>EN_NPi2020-DACm-MP-median-stor3-final_1000</td>\n",
       "      <td>Developed</td>\n",
       "      <td>net-zero-including-debt</td>\n",
       "      <td>250.817605</td>\n",
       "      <td>-89.453671</td>\n",
       "      <td>Gt CO2</td>\n",
       "      <td>C3 with DAC</td>\n",
       "      <td>DAC Included</td>\n",
       "      <td>Medium</td>\n",
       "      <td>Medium</td>\n",
       "      <td>Immediate Global Action</td>\n",
       "      <td>NaN</td>\n",
       "      <td>-340.271276</td>\n",
       "    </tr>\n",
       "    <tr>\n",
       "      <th>4</th>\n",
       "      <td>MESSAGEix-GLOBIOM_1.1</td>\n",
       "      <td>EN_NPi2020-DACm-MP-median-stor3-final_1000</td>\n",
       "      <td>Africa</td>\n",
       "      <td>net-zero</td>\n",
       "      <td>168.342207</td>\n",
       "      <td>216.599511</td>\n",
       "      <td>Gt CO2</td>\n",
       "      <td>C3 with DAC</td>\n",
       "      <td>DAC Included</td>\n",
       "      <td>Medium</td>\n",
       "      <td>Medium</td>\n",
       "      <td>Immediate Global Action</td>\n",
       "      <td>NaN</td>\n",
       "      <td>48.257304</td>\n",
       "    </tr>\n",
       "    <tr>\n",
       "      <th>...</th>\n",
       "      <td>...</td>\n",
       "      <td>...</td>\n",
       "      <td>...</td>\n",
       "      <td>...</td>\n",
       "      <td>...</td>\n",
       "      <td>...</td>\n",
       "      <td>...</td>\n",
       "      <td>...</td>\n",
       "      <td>...</td>\n",
       "      <td>...</td>\n",
       "      <td>...</td>\n",
       "      <td>...</td>\n",
       "      <td>...</td>\n",
       "      <td>...</td>\n",
       "    </tr>\n",
       "    <tr>\n",
       "      <th>105</th>\n",
       "      <td>MESSAGEix-GLOBIOM_1.1</td>\n",
       "      <td>EN_NPi2020-stor3-final_700</td>\n",
       "      <td>Africa</td>\n",
       "      <td>net-zero-including-debt</td>\n",
       "      <td>94.707209</td>\n",
       "      <td>201.247441</td>\n",
       "      <td>Gt CO2</td>\n",
       "      <td>C2 without DAC</td>\n",
       "      <td>No DAC</td>\n",
       "      <td>No DAC</td>\n",
       "      <td>No DAC</td>\n",
       "      <td>Immediate Global Action</td>\n",
       "      <td>NaN</td>\n",
       "      <td>106.540232</td>\n",
       "    </tr>\n",
       "    <tr>\n",
       "      <th>106</th>\n",
       "      <td>MESSAGEix-GLOBIOM_1.1</td>\n",
       "      <td>EN_NPi2020-stor3-final_700</td>\n",
       "      <td>Asia</td>\n",
       "      <td>net-zero</td>\n",
       "      <td>134.839168</td>\n",
       "      <td>211.264683</td>\n",
       "      <td>Gt CO2</td>\n",
       "      <td>C2 without DAC</td>\n",
       "      <td>No DAC</td>\n",
       "      <td>No DAC</td>\n",
       "      <td>No DAC</td>\n",
       "      <td>Immediate Global Action</td>\n",
       "      <td>NaN</td>\n",
       "      <td>76.425515</td>\n",
       "    </tr>\n",
       "    <tr>\n",
       "      <th>107</th>\n",
       "      <td>MESSAGEix-GLOBIOM_1.1</td>\n",
       "      <td>EN_NPi2020-stor3-final_700</td>\n",
       "      <td>Asia</td>\n",
       "      <td>net-zero-including-debt</td>\n",
       "      <td>134.839168</td>\n",
       "      <td>404.100298</td>\n",
       "      <td>Gt CO2</td>\n",
       "      <td>C2 without DAC</td>\n",
       "      <td>No DAC</td>\n",
       "      <td>No DAC</td>\n",
       "      <td>No DAC</td>\n",
       "      <td>Immediate Global Action</td>\n",
       "      <td>NaN</td>\n",
       "      <td>269.261129</td>\n",
       "    </tr>\n",
       "    <tr>\n",
       "      <th>108</th>\n",
       "      <td>MESSAGEix-GLOBIOM_1.1</td>\n",
       "      <td>EN_NPi2020-stor3-final_700</td>\n",
       "      <td>Latin</td>\n",
       "      <td>net-zero</td>\n",
       "      <td>20.718103</td>\n",
       "      <td>53.360363</td>\n",
       "      <td>Gt CO2</td>\n",
       "      <td>C2 without DAC</td>\n",
       "      <td>No DAC</td>\n",
       "      <td>No DAC</td>\n",
       "      <td>No DAC</td>\n",
       "      <td>Immediate Global Action</td>\n",
       "      <td>NaN</td>\n",
       "      <td>32.642260</td>\n",
       "    </tr>\n",
       "    <tr>\n",
       "      <th>109</th>\n",
       "      <td>MESSAGEix-GLOBIOM_1.1</td>\n",
       "      <td>EN_NPi2020-stor3-final_700</td>\n",
       "      <td>Latin</td>\n",
       "      <td>net-zero-including-debt</td>\n",
       "      <td>20.718103</td>\n",
       "      <td>28.525094</td>\n",
       "      <td>Gt CO2</td>\n",
       "      <td>C2 without DAC</td>\n",
       "      <td>No DAC</td>\n",
       "      <td>No DAC</td>\n",
       "      <td>No DAC</td>\n",
       "      <td>Immediate Global Action</td>\n",
       "      <td>NaN</td>\n",
       "      <td>7.806991</td>\n",
       "    </tr>\n",
       "  </tbody>\n",
       "</table>\n",
       "<p>110 rows × 14 columns</p>\n",
       "</div>"
      ],
      "text/plain": [
       "                     model                                    scenario  \\\n",
       "0    MESSAGEix-GLOBIOM_1.1  EN_NPi2020-DACm-MP-median-stor3-final_1000   \n",
       "1    MESSAGEix-GLOBIOM_1.1  EN_NPi2020-DACm-MP-median-stor3-final_1000   \n",
       "2    MESSAGEix-GLOBIOM_1.1  EN_NPi2020-DACm-MP-median-stor3-final_1000   \n",
       "3    MESSAGEix-GLOBIOM_1.1  EN_NPi2020-DACm-MP-median-stor3-final_1000   \n",
       "4    MESSAGEix-GLOBIOM_1.1  EN_NPi2020-DACm-MP-median-stor3-final_1000   \n",
       "..                     ...                                         ...   \n",
       "105  MESSAGEix-GLOBIOM_1.1                  EN_NPi2020-stor3-final_700   \n",
       "106  MESSAGEix-GLOBIOM_1.1                  EN_NPi2020-stor3-final_700   \n",
       "107  MESSAGEix-GLOBIOM_1.1                  EN_NPi2020-stor3-final_700   \n",
       "108  MESSAGEix-GLOBIOM_1.1                  EN_NPi2020-stor3-final_700   \n",
       "109  MESSAGEix-GLOBIOM_1.1                  EN_NPi2020-stor3-final_700   \n",
       "\n",
       "        region            consideration  Emissions|CO2  Emissions|CO2|Fair  \\\n",
       "0        China                 net-zero     217.808799          165.846347   \n",
       "1        China  net-zero-including-debt     217.808799          211.060488   \n",
       "2    Developed                 net-zero     250.817605          168.181019   \n",
       "3    Developed  net-zero-including-debt     250.817605          -89.453671   \n",
       "4       Africa                 net-zero     168.342207          216.599511   \n",
       "..         ...                      ...            ...                 ...   \n",
       "105     Africa  net-zero-including-debt      94.707209          201.247441   \n",
       "106       Asia                 net-zero     134.839168          211.264683   \n",
       "107       Asia  net-zero-including-debt     134.839168          404.100298   \n",
       "108      Latin                 net-zero      20.718103           53.360363   \n",
       "109      Latin  net-zero-including-debt      20.718103           28.525094   \n",
       "\n",
       "       unit     Temperature           DAC Technoeconomic Diffusion  \\\n",
       "0    Gt CO2     C3 with DAC  DAC Included         Medium    Medium   \n",
       "1    Gt CO2     C3 with DAC  DAC Included         Medium    Medium   \n",
       "2    Gt CO2     C3 with DAC  DAC Included         Medium    Medium   \n",
       "3    Gt CO2     C3 with DAC  DAC Included         Medium    Medium   \n",
       "4    Gt CO2     C3 with DAC  DAC Included         Medium    Medium   \n",
       "..      ...             ...           ...            ...       ...   \n",
       "105  Gt CO2  C2 without DAC        No DAC         No DAC    No DAC   \n",
       "106  Gt CO2  C2 without DAC        No DAC         No DAC    No DAC   \n",
       "107  Gt CO2  C2 without DAC        No DAC         No DAC    No DAC   \n",
       "108  Gt CO2  C2 without DAC        No DAC         No DAC    No DAC   \n",
       "109  Gt CO2  C2 without DAC        No DAC         No DAC    No DAC   \n",
       "\n",
       "                  Governance Governance SSP       delta  \n",
       "0    Immediate Global Action            NaN  -51.962452  \n",
       "1    Immediate Global Action            NaN   -6.748311  \n",
       "2    Immediate Global Action            NaN  -82.636585  \n",
       "3    Immediate Global Action            NaN -340.271276  \n",
       "4    Immediate Global Action            NaN   48.257304  \n",
       "..                       ...            ...         ...  \n",
       "105  Immediate Global Action            NaN  106.540232  \n",
       "106  Immediate Global Action            NaN   76.425515  \n",
       "107  Immediate Global Action            NaN  269.261129  \n",
       "108  Immediate Global Action            NaN   32.642260  \n",
       "109  Immediate Global Action            NaN    7.806991  \n",
       "\n",
       "[110 rows x 14 columns]"
      ]
     },
     "execution_count": 42,
     "metadata": {},
     "output_type": "execute_result"
    }
   ],
   "source": [
    "fig8_data"
   ]
  },
  {
   "attachments": {},
   "cell_type": "markdown",
   "metadata": {},
   "source": [
    "Save this out for plot generation."
   ]
  },
  {
   "cell_type": "code",
   "execution_count": 43,
   "metadata": {},
   "outputs": [],
   "source": [
    "fig8_data.to_excel(\n",
    "    'fig8_data.xlsx'\n",
    ")"
   ]
  }
 ],
 "metadata": {
  "kernelspec": {
   "display_name": "Python 3 (ipykernel)",
   "language": "python",
   "name": "python3"
  },
  "language_info": {
   "codemirror_mode": {
    "name": "ipython",
    "version": 3
   },
   "file_extension": ".py",
   "mimetype": "text/x-python",
   "name": "python",
   "nbconvert_exporter": "python",
   "pygments_lexer": "ipython3",
   "version": "3.8.16"
  },
  "vscode": {
   "interpreter": {
    "hash": "c5fa4ec01cdd0b6642a53aef386dea345857232e945c5aecb3c6bc5fa5868454"
   }
  }
 },
 "nbformat": 4,
 "nbformat_minor": 2
}

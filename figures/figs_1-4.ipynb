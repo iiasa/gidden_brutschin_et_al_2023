{
 "cells": [
  {
   "cell_type": "code",
   "execution_count": 1,
   "id": "1953ac5c",
   "metadata": {},
   "outputs": [
    {
     "data": {
      "application/javascript": [
       "if (typeof IPython !== 'undefined') { IPython.OutputArea.prototype._should_scroll = function(lines){ return false; }}"
      ],
      "text/plain": [
       "<IPython.core.display.Javascript object>"
      ]
     },
     "metadata": {},
     "output_type": "display_data"
    }
   ],
   "source": [
    "import itertools\n",
    "import pathlib\n",
    "import pyam\n",
    "\n",
    "import numpy as np\n",
    "import pandas as pd\n",
    "import seaborn as sns\n",
    "import matplotlib.pyplot as plt\n",
    "\n",
    "sns.set_style('whitegrid')"
   ]
  },
  {
   "cell_type": "code",
   "execution_count": 2,
   "id": "06c62b33",
   "metadata": {},
   "outputs": [],
   "source": [
    "datapath = pathlib.Path('../data')\n",
    "sheet_names = ['core', 'sensitivities', 'governance']"
   ]
  },
  {
   "cell_type": "code",
   "execution_count": 3,
   "id": "bf042b52",
   "metadata": {},
   "outputs": [],
   "source": [
    "color_map = {\n",
    "    '1.5C': 'AR6-C1',\n",
    "    '1.5C - OS': 'AR6-C2',\n",
    "    '2C': 'AR6-C3',\n",
    "}\n",
    "pyam.run_control().update({'color': {'Temperature': color_map}})"
   ]
  },
  {
   "cell_type": "code",
   "execution_count": 4,
   "id": "b00b1233",
   "metadata": {
    "scrolled": true
   },
   "outputs": [
    {
     "name": "stderr",
     "output_type": "stream",
     "text": [
      "pyam - INFO: Running in a notebook, setting up a basic logging at level INFO\n",
      "pyam.core - INFO: Reading file ..\\data\\gidden_brutshin_et_al_2023_data.csv\n"
     ]
    }
   ],
   "source": [
    "fulldf = pyam.IamDataFrame(datapath / 'gidden_brutshin_et_al_2023_data.csv')"
   ]
  },
  {
   "cell_type": "code",
   "execution_count": 5,
   "id": "4d7576cc",
   "metadata": {},
   "outputs": [
    {
     "name": "stderr",
     "output_type": "stream",
     "text": [
      "pyam.core - INFO: Reading meta indicators\n"
     ]
    }
   ],
   "source": [
    "fulldf.load_meta(datapath / 'gidden_brutshin_et_al_2023_meta.csv')"
   ]
  },
  {
   "cell_type": "code",
   "execution_count": 6,
   "id": "c94fcfc2",
   "metadata": {},
   "outputs": [
    {
     "ename": "PermissionError",
     "evalue": "[Errno 13] Permission denied: '..\\\\data\\\\scenarios_assessed.xlsx'",
     "output_type": "error",
     "traceback": [
      "\u001b[1;31m---------------------------------------------------------------------------\u001b[0m",
      "\u001b[1;31mPermissionError\u001b[0m                           Traceback (most recent call last)",
      "Input \u001b[1;32mIn [6]\u001b[0m, in \u001b[0;36m<cell line: 1>\u001b[1;34m()\u001b[0m\n\u001b[0;32m      1\u001b[0m \u001b[38;5;28;01mfor\u001b[39;00m sheet_name \u001b[38;5;129;01min\u001b[39;00m sheet_names:\n\u001b[1;32m----> 2\u001b[0m     \u001b[43mfulldf\u001b[49m\u001b[38;5;241;43m.\u001b[39;49m\u001b[43mload_meta\u001b[49m\u001b[43m(\u001b[49m\u001b[43mdatapath\u001b[49m\u001b[43m \u001b[49m\u001b[38;5;241;43m/\u001b[39;49m\u001b[43m \u001b[49m\u001b[38;5;124;43m'\u001b[39;49m\u001b[38;5;124;43mscenarios_assessed.xlsx\u001b[39;49m\u001b[38;5;124;43m'\u001b[39;49m\u001b[43m,\u001b[49m\u001b[43m \u001b[49m\u001b[43msheet_name\u001b[49m\u001b[38;5;241;43m=\u001b[39;49m\u001b[43msheet_name\u001b[49m\u001b[43m,\u001b[49m\u001b[43m \u001b[49m\u001b[43mignore_conflict\u001b[49m\u001b[38;5;241;43m=\u001b[39;49m\u001b[38;5;28;43;01mTrue\u001b[39;49;00m\u001b[43m)\u001b[49m\n",
      "File \u001b[1;32mc:\\users\\gidden\\onedrive - iiasa\\work\\iiasa\\pyam\\pyam\\core.py:2475\u001b[0m, in \u001b[0;36mIamDataFrame.load_meta\u001b[1;34m(self, path, sheet_name, ignore_conflict, *args, **kwargs)\u001b[0m\n\u001b[0;32m   2473\u001b[0m \u001b[38;5;66;03m# load from file\u001b[39;00m\n\u001b[0;32m   2474\u001b[0m path \u001b[38;5;241m=\u001b[39m path \u001b[38;5;28;01mif\u001b[39;00m \u001b[38;5;28misinstance\u001b[39m(path, pd\u001b[38;5;241m.\u001b[39mExcelFile) \u001b[38;5;28;01melse\u001b[39;00m Path(path)\n\u001b[1;32m-> 2475\u001b[0m df \u001b[38;5;241m=\u001b[39m \u001b[43mread_pandas\u001b[49m\u001b[43m(\u001b[49m\u001b[43mpath\u001b[49m\u001b[43m,\u001b[49m\u001b[43m \u001b[49m\u001b[43msheet_name\u001b[49m\u001b[38;5;241;43m=\u001b[39;49m\u001b[43msheet_name\u001b[49m\u001b[43m,\u001b[49m\u001b[43m \u001b[49m\u001b[38;5;241;43m*\u001b[39;49m\u001b[38;5;241;43m*\u001b[39;49m\u001b[43mkwargs\u001b[49m\u001b[43m)\u001b[49m\n\u001b[0;32m   2477\u001b[0m \u001b[38;5;66;03m# cast model-scenario column headers to lower-case (if necessary)\u001b[39;00m\n\u001b[0;32m   2478\u001b[0m df \u001b[38;5;241m=\u001b[39m df\u001b[38;5;241m.\u001b[39mrename(columns\u001b[38;5;241m=\u001b[39m\u001b[38;5;28mdict\u001b[39m([(i\u001b[38;5;241m.\u001b[39mcapitalize(), i) \u001b[38;5;28;01mfor\u001b[39;00m i \u001b[38;5;129;01min\u001b[39;00m META_IDX]))\n",
      "File \u001b[1;32mc:\\users\\gidden\\onedrive - iiasa\\work\\iiasa\\pyam\\pyam\\utils.py:144\u001b[0m, in \u001b[0;36mread_pandas\u001b[1;34m(path, sheet_name, *args, **kwargs)\u001b[0m\n\u001b[0;32m    141\u001b[0m     \u001b[38;5;28;01mreturn\u001b[39;00m pd\u001b[38;5;241m.\u001b[39mread_csv(path, \u001b[38;5;241m*\u001b[39margs, \u001b[38;5;241m*\u001b[39m\u001b[38;5;241m*\u001b[39mkwargs)\n\u001b[0;32m    143\u001b[0m \u001b[38;5;28;01melse\u001b[39;00m:\n\u001b[1;32m--> 144\u001b[0m     xl \u001b[38;5;241m=\u001b[39m path \u001b[38;5;28;01mif\u001b[39;00m \u001b[38;5;28misinstance\u001b[39m(path, pd\u001b[38;5;241m.\u001b[39mExcelFile) \u001b[38;5;28;01melse\u001b[39;00m \u001b[43mpd\u001b[49m\u001b[38;5;241;43m.\u001b[39;49m\u001b[43mExcelFile\u001b[49m\u001b[43m(\u001b[49m\u001b[43mpath\u001b[49m\u001b[43m)\u001b[49m\n\u001b[0;32m    146\u001b[0m     \u001b[38;5;66;03m# reading multiple sheets\u001b[39;00m\n\u001b[0;32m    147\u001b[0m     sheet_names \u001b[38;5;241m=\u001b[39m pd\u001b[38;5;241m.\u001b[39mSeries(xl\u001b[38;5;241m.\u001b[39msheet_names)\n",
      "File \u001b[1;32m~\\Miniconda3\\envs\\pyam\\lib\\site-packages\\pandas\\io\\excel\\_base.py:1652\u001b[0m, in \u001b[0;36mExcelFile.__init__\u001b[1;34m(self, path_or_buffer, engine, storage_options)\u001b[0m\n\u001b[0;32m   1650\u001b[0m     ext \u001b[38;5;241m=\u001b[39m \u001b[38;5;124m\"\u001b[39m\u001b[38;5;124mxls\u001b[39m\u001b[38;5;124m\"\u001b[39m\n\u001b[0;32m   1651\u001b[0m \u001b[38;5;28;01melse\u001b[39;00m:\n\u001b[1;32m-> 1652\u001b[0m     ext \u001b[38;5;241m=\u001b[39m \u001b[43minspect_excel_format\u001b[49m\u001b[43m(\u001b[49m\n\u001b[0;32m   1653\u001b[0m \u001b[43m        \u001b[49m\u001b[43mcontent_or_path\u001b[49m\u001b[38;5;241;43m=\u001b[39;49m\u001b[43mpath_or_buffer\u001b[49m\u001b[43m,\u001b[49m\u001b[43m \u001b[49m\u001b[43mstorage_options\u001b[49m\u001b[38;5;241;43m=\u001b[39;49m\u001b[43mstorage_options\u001b[49m\n\u001b[0;32m   1654\u001b[0m \u001b[43m    \u001b[49m\u001b[43m)\u001b[49m\n\u001b[0;32m   1655\u001b[0m     \u001b[38;5;28;01mif\u001b[39;00m ext \u001b[38;5;129;01mis\u001b[39;00m \u001b[38;5;28;01mNone\u001b[39;00m:\n\u001b[0;32m   1656\u001b[0m         \u001b[38;5;28;01mraise\u001b[39;00m \u001b[38;5;167;01mValueError\u001b[39;00m(\n\u001b[0;32m   1657\u001b[0m             \u001b[38;5;124m\"\u001b[39m\u001b[38;5;124mExcel file format cannot be determined, you must specify \u001b[39m\u001b[38;5;124m\"\u001b[39m\n\u001b[0;32m   1658\u001b[0m             \u001b[38;5;124m\"\u001b[39m\u001b[38;5;124man engine manually.\u001b[39m\u001b[38;5;124m\"\u001b[39m\n\u001b[0;32m   1659\u001b[0m         )\n",
      "File \u001b[1;32m~\\Miniconda3\\envs\\pyam\\lib\\site-packages\\pandas\\io\\excel\\_base.py:1525\u001b[0m, in \u001b[0;36minspect_excel_format\u001b[1;34m(content_or_path, storage_options)\u001b[0m\n\u001b[0;32m   1522\u001b[0m \u001b[38;5;28;01mif\u001b[39;00m \u001b[38;5;28misinstance\u001b[39m(content_or_path, \u001b[38;5;28mbytes\u001b[39m):\n\u001b[0;32m   1523\u001b[0m     content_or_path \u001b[38;5;241m=\u001b[39m BytesIO(content_or_path)\n\u001b[1;32m-> 1525\u001b[0m \u001b[38;5;28;01mwith\u001b[39;00m \u001b[43mget_handle\u001b[49m\u001b[43m(\u001b[49m\n\u001b[0;32m   1526\u001b[0m \u001b[43m    \u001b[49m\u001b[43mcontent_or_path\u001b[49m\u001b[43m,\u001b[49m\u001b[43m \u001b[49m\u001b[38;5;124;43m\"\u001b[39;49m\u001b[38;5;124;43mrb\u001b[39;49m\u001b[38;5;124;43m\"\u001b[39;49m\u001b[43m,\u001b[49m\u001b[43m \u001b[49m\u001b[43mstorage_options\u001b[49m\u001b[38;5;241;43m=\u001b[39;49m\u001b[43mstorage_options\u001b[49m\u001b[43m,\u001b[49m\u001b[43m \u001b[49m\u001b[43mis_text\u001b[49m\u001b[38;5;241;43m=\u001b[39;49m\u001b[38;5;28;43;01mFalse\u001b[39;49;00m\n\u001b[0;32m   1527\u001b[0m \u001b[43m\u001b[49m\u001b[43m)\u001b[49m \u001b[38;5;28;01mas\u001b[39;00m handle:\n\u001b[0;32m   1528\u001b[0m     stream \u001b[38;5;241m=\u001b[39m handle\u001b[38;5;241m.\u001b[39mhandle\n\u001b[0;32m   1529\u001b[0m     stream\u001b[38;5;241m.\u001b[39mseek(\u001b[38;5;241m0\u001b[39m)\n",
      "File \u001b[1;32m~\\Miniconda3\\envs\\pyam\\lib\\site-packages\\pandas\\io\\common.py:865\u001b[0m, in \u001b[0;36mget_handle\u001b[1;34m(path_or_buf, mode, encoding, compression, memory_map, is_text, errors, storage_options)\u001b[0m\n\u001b[0;32m    856\u001b[0m         handle \u001b[38;5;241m=\u001b[39m \u001b[38;5;28mopen\u001b[39m(\n\u001b[0;32m    857\u001b[0m             handle,\n\u001b[0;32m    858\u001b[0m             ioargs\u001b[38;5;241m.\u001b[39mmode,\n\u001b[1;32m   (...)\u001b[0m\n\u001b[0;32m    861\u001b[0m             newline\u001b[38;5;241m=\u001b[39m\u001b[38;5;124m\"\u001b[39m\u001b[38;5;124m\"\u001b[39m,\n\u001b[0;32m    862\u001b[0m         )\n\u001b[0;32m    863\u001b[0m     \u001b[38;5;28;01melse\u001b[39;00m:\n\u001b[0;32m    864\u001b[0m         \u001b[38;5;66;03m# Binary mode\u001b[39;00m\n\u001b[1;32m--> 865\u001b[0m         handle \u001b[38;5;241m=\u001b[39m \u001b[38;5;28;43mopen\u001b[39;49m\u001b[43m(\u001b[49m\u001b[43mhandle\u001b[49m\u001b[43m,\u001b[49m\u001b[43m \u001b[49m\u001b[43mioargs\u001b[49m\u001b[38;5;241;43m.\u001b[39;49m\u001b[43mmode\u001b[49m\u001b[43m)\u001b[49m\n\u001b[0;32m    866\u001b[0m     handles\u001b[38;5;241m.\u001b[39mappend(handle)\n\u001b[0;32m    868\u001b[0m \u001b[38;5;66;03m# Convert BytesIO or file objects passed with an encoding\u001b[39;00m\n",
      "\u001b[1;31mPermissionError\u001b[0m: [Errno 13] Permission denied: '..\\\\data\\\\scenarios_assessed.xlsx'"
     ]
    }
   ],
   "source": [
    "for sheet_name in sheet_names:\n",
    "    fulldf.load_meta(datapath / 'scenarios_assessed.xlsx', sheet_name=sheet_name, ignore_conflict=True)"
   ]
  },
  {
   "cell_type": "code",
   "execution_count": null,
   "id": "84c43eac",
   "metadata": {},
   "outputs": [],
   "source": [
    "n_scenario_all = 6 + 12 + 12\n",
    "assert len(fulldf.scenario) == n_scenario_all"
   ]
  },
  {
   "cell_type": "markdown",
   "id": "16a23923",
   "metadata": {},
   "source": [
    "# Figure 1: CO2 Emissions"
   ]
  },
  {
   "cell_type": "code",
   "execution_count": null,
   "id": "7baea982",
   "metadata": {},
   "outputs": [],
   "source": [
    "variables = [\n",
    "    'Emissions|CO2',\n",
    "    'Emissions|Kyoto Gases',\n",
    "]\n",
    "df = fulldf.filter(variable=variables).convert_unit('Mt CO2/yr', to='Gt CO2/yr', factor=1e-3)"
   ]
  },
  {
   "cell_type": "code",
   "execution_count": null,
   "id": "e0465455",
   "metadata": {},
   "outputs": [],
   "source": [
    "# get legend data via seaborn\n",
    "\n",
    "pdata = df.as_pandas()\n",
    "\n",
    "palette = {t: pyam.plotting.PYAM_COLORS[c] for t, c in color_map.items()}\n",
    "sns.lineplot(\n",
    "    data=pdata,\n",
    "    x=\"year\", y=\"value\", hue=\"Temperature\", style=\"DAC\", palette=palette,\n",
    ")\n",
    "\n",
    "ax = sns.scatterplot(\n",
    "    data=pdata,\n",
    "    x=\"year\", y=\"value\", hue=\"Temperature\", style=\"Governance\", style_order=['Medium Governance', 'Unconstrained Governance'], palette=palette,\n",
    ")\n",
    "handles, labels = ax.get_legend_handles_labels()"
   ]
  },
  {
   "cell_type": "code",
   "execution_count": null,
   "id": "5fc1d180",
   "metadata": {},
   "outputs": [],
   "source": [
    "scale = 2\n",
    "fig, ax = plt.subplots(figsize=(4.5 * scale, 2.5 * scale))\n",
    "data = df.filter(variable='Emissions|CO2', region='World', year=range(1990, 2101))\n",
    "(\n",
    "    data\n",
    "    .filter(Illustrative='Yes', Governance='Unconstrained Governance')\n",
    "    .plot\n",
    "    .line(color='Temperature', linestyle='DAC', ax=ax)\n",
    ")\n",
    "(\n",
    "    data\n",
    "    .filter(DAC='DAC Included')\n",
    "    .plot\n",
    "    .line(color='Temperature', linestyle='DAC', ax=ax,\n",
    "         fill_between=True, alpha=0)\n",
    ")\n",
    "(\n",
    "    data\n",
    "    .filter(year=range(2021, 2101))\n",
    "    .filter(Governance='Medium Governance')\n",
    "    .plot\n",
    "    .line(color='Temperature', marker='Governance', linestyle='DAC', ax=ax, alpha=0.5, legend=False, markersize=3)\n",
    ")\n",
    "ax.set_title('Global CO2 Emissions')\n",
    "ax.legend(handles[:-7] + handles[-3:-1], labels[:-7] + labels[-3:-1], **dict(loc=\"center left\", bbox_to_anchor=(1.0, 0.5)))\n",
    "\n",
    "fig.savefig('./files/fig1.svg', bbox_inches='tight')"
   ]
  },
  {
   "cell_type": "markdown",
   "id": "82507d46",
   "metadata": {},
   "source": [
    "# Figure 2: CDR Outcomes"
   ]
  },
  {
   "cell_type": "code",
   "execution_count": null,
   "id": "76243b7b",
   "metadata": {},
   "outputs": [],
   "source": [
    "variables = [\n",
    "    'Emissions|CO2',\n",
    "    'Carbon Sequestration|*',\n",
    "    '*CDR*',\n",
    "]\n",
    "df = (\n",
    "    fulldf\n",
    "    .filter(variable=variables)\n",
    "    .filter(scenario='EN_NPi2020-DACn-MP-median-stor3-phs-govm_500', keep=False) # remove no-limit DAC\n",
    ")"
   ]
  },
  {
   "cell_type": "code",
   "execution_count": null,
   "id": "9fb494c3",
   "metadata": {},
   "outputs": [],
   "source": [
    "fig, ax = plt.subplots(figsize=(7, 5))\n",
    "ax = (\n",
    "    df\n",
    "    .filter(variable='Carbon Sequestration|Direct Air Capture', region='World', year=range(1990, 2051))\n",
    "    .filter(DAC='DAC Included')\n",
    "    .convert_unit('Mt CO2/yr', to='Gt CO2/yr', factor=1e-3)\n",
    "    .plot\n",
    "    .line(\n",
    "        color='Diffusion', marker='Temperature', cmap='jet',\n",
    "        legend={'loc': 'outside bottom'}, alpha=0.5, fill_between=True,\n",
    "        ax=ax,\n",
    "    )\n",
    ")\n",
    "ax.set_title('DACCS Deployment by Diffusion Sensitivity and Temperature')\n",
    "\n",
    "fig.savefig('./files/fig2.svg', bbox_inches='tight')"
   ]
  },
  {
   "cell_type": "markdown",
   "id": "f9ff106d",
   "metadata": {},
   "source": [
    "# Figure 3 & 4a: CDR substitution globally"
   ]
  },
  {
   "cell_type": "code",
   "execution_count": null,
   "id": "b76f8566",
   "metadata": {},
   "outputs": [],
   "source": [
    "variables = [\n",
    "    '*Carbon Sequestration|*',\n",
    "    '*CDR*',\n",
    "]\n",
    "df = (\n",
    "    fulldf\n",
    "    .filter(variable=variables)\n",
    "    .filter(scenario='EN_NPi2020-DACn-MP-median-stor3-phs-govm_500', keep=False) # remove no-limit DAC\n",
    "    .filter(scenario='EN_NPi2020-median-stor3-phs-govmSSP*-CO2total_1000', keep=False) # remove no-DAC governance cases\n",
    ")\n",
    "df.variable"
   ]
  },
  {
   "cell_type": "code",
   "execution_count": null,
   "id": "eba60c49",
   "metadata": {},
   "outputs": [],
   "source": [
    "assert len(df.scenario) == n_scenario_all - 3"
   ]
  },
  {
   "cell_type": "code",
   "execution_count": null,
   "id": "bcae167a",
   "metadata": {},
   "outputs": [],
   "source": [
    "def make_data_no_gov(df, region='World', variable='Cumulative CDR from 2020', year=2050, relative=True):\n",
    "    data = (\n",
    "        df\n",
    "        .filter(variable=variable, year=year, region=region)\n",
    "        .filter(Governance='Unconstrained Governance')\n",
    "        .convert_unit('Mt CO2/yr', to='Gt CO2/yr', factor=1e-3)\n",
    "        .as_pandas()\n",
    "        .set_index(['DAC', 'Temperature', 'region', 'model', 'scenario'])\n",
    "        ['value']\n",
    "        .rename(variable)\n",
    "    )\n",
    "    pdata = (\n",
    "        (data.loc['DAC Included'] - data.loc['No DAC'].droplevel(['model', 'scenario']))\n",
    "    )\n",
    "    if relative:\n",
    "        pdata = 100 * pdata /  data.loc['No DAC'].droplevel(['model', 'scenario'])\n",
    "    return data, pdata.reset_index()"
   ]
  },
  {
   "cell_type": "code",
   "execution_count": null,
   "id": "5f4a5a7c",
   "metadata": {},
   "outputs": [],
   "source": [
    "idx = ['model', 'scenario']\n",
    "def make_data_gov(df, region='World', variable='Cumulative CDR from 2020', year=2050, relative=True):\n",
    "    data = df.filter(variable=variable, year=year, region=region)\n",
    "    data = (\n",
    "        pyam.concat([\n",
    "            data.filter(DAC='DAC Included', Governance='Unconstrained Governance', Diffusion='Medium'), # standard scenarios\n",
    "            data.filter(Governance='Medium Governance', Technoeconomic='Medium', Temperature='1.5C - OS', **{'Governance SSP': 'SSP1'}),\n",
    "            data.filter(Governance='Medium Governance', Technoeconomic='Medium', Temperature='2C', **{'Governance SSP': 'SSP2'}),\n",
    "        ])\n",
    "        .filter(Temperature='1.5C', keep=False) # no 1.5C governance scenarios\n",
    "        .convert_unit('Mt CO2/yr', to='Gt CO2/yr', factor=1e-3)\n",
    "        .as_pandas()\n",
    "        .set_index(['Governance', 'Temperature', 'region', 'model', 'scenario'])\n",
    "        ['value']\n",
    "        .rename(variable)\n",
    "    )\n",
    "    pdata = (\n",
    "        (data.loc['Medium Governance'] - data.loc['Unconstrained Governance'].droplevel(idx))\n",
    "    )\n",
    "    if relative:\n",
    "        pdata = 100 * pdata /  data.loc['Medium Governance'].droplevel(idx)\n",
    "    return data, pdata.reset_index()"
   ]
  },
  {
   "cell_type": "code",
   "execution_count": null,
   "id": "fb7bc7a4",
   "metadata": {},
   "outputs": [],
   "source": [
    "def cumulative_cdr_for_year(df, year, relative=True, gov=False):\n",
    "    variables = {\n",
    "        'Cumulative Carbon Sequestration|CCS|Biomass from 2020': 'BECCS',\n",
    "        'Cumulative CDR from 2020': 'Total',\n",
    "        'Cumulative Carbon Sequestration|Land Use from 2020': 'A/R',\n",
    "    }\n",
    "    if gov:\n",
    "        variables['Cumulative Carbon Sequestration|Direct Air Capture from 2020'] = 'DACCS'\n",
    "    _pdata = []\n",
    "    for variable in list(variables.keys()):\n",
    "        if gov:\n",
    "            _, pdf = make_data_gov(df, region='World', variable=variable, year=year, relative=relative)\n",
    "        else:\n",
    "            _, pdf = make_data_no_gov(df, region='World', variable=variable, year=year, relative=relative)\n",
    "            \n",
    "        _pdata.append(pdf.set_index(['Temperature', 'region',  'model', 'scenario']))\n",
    "    pdata = pd.concat(_pdata, axis=1).rename(columns=variables)\n",
    "    pdata = pd.melt(pdata, value_vars=pdata.columns, ignore_index=False)\n",
    "    return pdata"
   ]
  },
  {
   "cell_type": "code",
   "execution_count": null,
   "id": "9e7c54ad",
   "metadata": {},
   "outputs": [],
   "source": [
    "relative = False\n",
    "ylabel = '% Change' if relative else 'Gt CO2 Sequestered'\n",
    "\n",
    "for label, year in zip(['a', 'b', 'c'], [2030, 2040, 2050]):\n",
    "    fig, ax = plt.subplots(figsize=(7, 5))\n",
    "    hue_order = ['A/R', 'BECCS', 'Total']\n",
    "    pdata = cumulative_cdr_for_year(df, year, relative=True)\n",
    "    sns.stripplot(\n",
    "        data=pdata.reset_index(), x=\"variable\", y=\"value\", hue='Temperature', palette=palette,\n",
    "        order=hue_order, size=10, \n",
    "        #dodge=True, jitter=False, \n",
    "        ax=ax\n",
    "    )\n",
    "    ax.set_xlabel('')\n",
    "    ax.set_ylabel(ylabel)\n",
    "    ax.set_title(f'Additional Cumulative CDR in {year} compared to No-DACCS')\n",
    "    fig.savefig(f'files/fig3{label}.svg')"
   ]
  },
  {
   "cell_type": "code",
   "execution_count": null,
   "id": "fe289b08",
   "metadata": {},
   "outputs": [],
   "source": [
    "pdata.groupby('variable').quantile((0, 1)) # claim on difference in sequestered values by scenario"
   ]
  },
  {
   "cell_type": "code",
   "execution_count": null,
   "id": "458c7ea5",
   "metadata": {
    "scrolled": true
   },
   "outputs": [],
   "source": [
    "relative = False\n",
    "ylabel = '% Change' if relative else 'Gt CO2 Sequestered'\n",
    "\n",
    "for label, year in zip(['a1', 'a2', 'a3'], [2030, 2040, 2050]):\n",
    "    fig, ax = plt.subplots(figsize=(7, 5))\n",
    "    hue_order = ['A/R', 'BECCS', 'DACCS', 'Total']\n",
    "    pdata = cumulative_cdr_for_year(df, year, relative=relative, gov=True)\n",
    "\n",
    "    sns.stripplot(\n",
    "        data=pdata.reset_index(), x=\"variable\", y=\"value\", hue='Temperature', palette=palette,\n",
    "        order=hue_order, size=10, \n",
    "        dodge=True, jitter=True, \n",
    "        ax=ax\n",
    "    )\n",
    "\n",
    "    ax.set_xlabel('')\n",
    "    ax.axhline(0, c='k', alpha=0.25)\n",
    "    ax.set_ylabel(ylabel)\n",
    "    ax.set_title(f'Additional Cumulative CDR 2020-{year} compared to Cost-Effective Scenarios')\n",
    "    fig.savefig(f'files/fig4{label}.svg')"
   ]
  },
  {
   "cell_type": "markdown",
   "id": "f9670313",
   "metadata": {},
   "source": [
    "# Figure 4b: CDR Substitution Regionally"
   ]
  },
  {
   "cell_type": "code",
   "execution_count": null,
   "id": "9acac8e4",
   "metadata": {},
   "outputs": [],
   "source": [
    "native_regions = [\n",
    "    'AFR',\n",
    "     'CPA',\n",
    "     'EEU',\n",
    "     'FSU',\n",
    "     'LAM',\n",
    "     'MEA',\n",
    "     'NAM',\n",
    "     'PAO',\n",
    "     'PAS',\n",
    "     'SAS',\n",
    "     'WEU',\n",
    "]\n",
    "region = list(\n",
    "    set(df.region) - set(native_regions)\n",
    ")\n",
    "region"
   ]
  },
  {
   "cell_type": "code",
   "execution_count": null,
   "id": "0bfe6b12",
   "metadata": {},
   "outputs": [],
   "source": [
    "replace = {'region': {\n",
    "    'Developed Regions': 'Developed\\nRegions',\n",
    "    'Africa': 'Middle East &\\nAfrica',\n",
    "    'Asia': 'South &\\nSouth East Asia',\n",
    "    'Latin America': 'Latin\\nAmerica',\n",
    "    'China & Centrally Planned Asia': 'China & Centrally\\nPlanned Asia',\n",
    "}}"
   ]
  },
  {
   "cell_type": "code",
   "execution_count": null,
   "id": "6060e7b9",
   "metadata": {},
   "outputs": [],
   "source": [
    "def make_region_data_no_gov(df, region):\n",
    "    data = (\n",
    "        df\n",
    "        .filter(variable='Cumulative CDR from 2020', year=2050, region=region)\n",
    "        .filter(Governance='Unconstrained Governance')\n",
    "        .as_pandas()\n",
    "        .set_index(['DAC', 'Temperature', 'region'])\n",
    "        ['value']\n",
    "    )\n",
    "    pdata = (\n",
    "        (100 * (data.loc['DAC Included'] - data.loc['No DAC']) / data.loc['No DAC'])\n",
    "        .reset_index()\n",
    "#        .replace({'Temperature': {'1.5C - OS': '1.5C low/high', '1.5C': '1.5C low/high'}})\n",
    "    )\n",
    "    return data, pdata"
   ]
  },
  {
   "cell_type": "code",
   "execution_count": null,
   "id": "7a5dd9a2",
   "metadata": {},
   "outputs": [],
   "source": [
    "data, pdata = make_region_data_no_gov(df, region=region)\n",
    "pdata = pdata.replace(replace)\n",
    "\n",
    "fig, ax = plt.subplots(figsize=(7, 5))\n",
    "#sns.boxplot(data=pdata, x=\"region\", y=\"value\", hue='Temperature', ax=ax, showfliers=False)\n",
    "sns.stripplot(\n",
    "    data=pdata, x=\"region\", y=\"value\", hue='Temperature', palette=palette,\n",
    "    dodge=True, jitter=False, size=7.5, \n",
    "    ax=ax\n",
    ")\n",
    "\n",
    "ax.set_xlabel('')\n",
    "ax.set_ylabel('%')\n",
    "ax.set_title('Growth in 2050 Cumulative CDR compared to No-DACCS')\n",
    "plt.tight_layout()\n",
    "\n",
    "fig.savefig('files/fig4b1.svg', bbox_inches='tight')"
   ]
  },
  {
   "cell_type": "code",
   "execution_count": null,
   "id": "7d84d205",
   "metadata": {},
   "outputs": [],
   "source": [
    "relative = True\n",
    "ylabel = '% Change' if relative else 'Gt CO2 Sequestered'\n",
    "\n",
    "data, pdata = make_data_gov(df, region, relative=relative)\n",
    "pdata = pdata.replace(replace)\n",
    "\n",
    "fig, ax = plt.subplots(figsize=(7, 5))\n",
    "#sns.boxplot(data=pdata, x=\"region\", y=\"value\", hue='Temperature', ax=ax, showfliers=False)\n",
    "sns.stripplot(\n",
    "    data=pdata, x=\"region\", y=\"Cumulative CDR from 2020\", hue='Temperature', palette=palette,\n",
    "    dodge=True, jitter=True, size=7.5, \n",
    "    ax=ax\n",
    ")\n",
    "\n",
    "ax.set_xlabel('')\n",
    "ax.set_ylabel(ylabel)\n",
    "ax.axhline(0, c='k', alpha=0.25)\n",
    "ax.set_title(f'Additional Cumulative CDR 2020-{year} compared to Cost-Effective Scenarios')\n",
    "plt.tight_layout()\n",
    "\n",
    "fig.savefig('files/fig4b2.svg', bbox_inches='tight')"
   ]
  },
  {
   "cell_type": "code",
   "execution_count": null,
   "id": "30f2fdcb",
   "metadata": {},
   "outputs": [],
   "source": []
  }
 ],
 "metadata": {
  "kernelspec": {
   "display_name": "Python 3 (ipykernel)",
   "language": "python",
   "name": "python3"
  },
  "language_info": {
   "codemirror_mode": {
    "name": "ipython",
    "version": 3
   },
   "file_extension": ".py",
   "mimetype": "text/x-python",
   "name": "python",
   "nbconvert_exporter": "python",
   "pygments_lexer": "ipython3",
   "version": "3.8.13"
  }
 },
 "nbformat": 4,
 "nbformat_minor": 5
}
